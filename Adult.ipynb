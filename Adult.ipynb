{
 "cells": [
  {
   "cell_type": "markdown",
   "metadata": {},
   "source": [
    "# UCI Machine Learning - Adult\n",
    "\n",
    "Details about the Adult dataset can be found on the UCI site.\n",
    "\n",
    "Load the packages that will be used:"
   ]
  },
  {
   "cell_type": "code",
   "execution_count": 1,
   "metadata": {},
   "outputs": [
    {
     "data": {
      "text/plain": [
       "500"
      ]
     },
     "execution_count": 1,
     "metadata": {},
     "output_type": "execute_result"
    }
   ],
   "source": [
    "using CSV, DataFrames, Random, Statistics, StatsBase, DataStructures, Pipe, Plots, DecisionTree, MLBase\n",
    "ENV[\"COLUMNS\"] = 500"
   ]
  },
  {
   "cell_type": "markdown",
   "metadata": {},
   "source": [
    "Download the dataset:"
   ]
  },
  {
   "cell_type": "code",
   "execution_count": 2,
   "metadata": {},
   "outputs": [
    {
     "data": {
      "text/plain": [
       "\"adult.test\""
      ]
     },
     "execution_count": 2,
     "metadata": {},
     "output_type": "execute_result"
    }
   ],
   "source": [
    "download(\"https://archive.ics.uci.edu/ml/machine-learning-databases/adult/adult.data\", \"adult.data\")\n",
    "download(\"https://archive.ics.uci.edu/ml/machine-learning-databases/adult/adult.test\", \"adult.test\")"
   ]
  },
  {
   "cell_type": "markdown",
   "metadata": {},
   "source": [
    "Load the training data into a DataFrame. The downloaded file contains no headers so we use `rename` to add them:"
   ]
  },
  {
   "cell_type": "code",
   "execution_count": 2,
   "metadata": {},
   "outputs": [
    {
     "data": {
      "text/plain": [
       "5-element Vector{String}:\n",
       " \"|1x3 Cross validator\"\n",
       " \"25, Private, 226802, 11th, 7, Never-married, Machine-op-inspct, Own-child, Black, Male, 0, 0, 40, United-States, <=50K.\"\n",
       " \"38, Private, 89814, HS-grad, 9, Married-civ-spouse, Farming-fishing, Husband, White, Male, 0, 0, 50, United-States, <=50K.\"\n",
       " \"28, Local-gov, 336951, Assoc-acdm, 12, Married-civ-spouse, Protective-serv, Husband, White, Male, 0, 0, 40, United-States, >50K.\"\n",
       " \"44, Private, 160323, Some-college, 10, Married-civ-spouse, Machine-op-inspct, Husband, Black, Male, 7688, 0, 40, United-States, >50K.\""
      ]
     },
     "execution_count": 2,
     "metadata": {},
     "output_type": "execute_result"
    }
   ],
   "source": [
    "readlines(\"adult.test\")[1:5]"
   ]
  },
  {
   "cell_type": "code",
   "execution_count": 52,
   "metadata": {},
   "outputs": [],
   "source": [
    "function shuffle(df::DataFrame)\n",
    "    df[Random.shuffle(1:end), :]\n",
    "end\n",
    "\n",
    "headers = [\"age\", \"workclass\", \"fnlwgt\", \"education\", \"education_num\", \"marital_status\", \"occupation\", \"relationship\",\n",
    "           \"race\", \"sex\", \"capital_gain\", \"capital_loss\", \"hours_per_week\", \"native_country\", \"target\"]\n",
    "\n",
    "dftrain = @pipe CSV.File(\"adult.data\") |>\n",
    "DataFrame |>\n",
    "shuffle |>\n",
    "rename(_, headers);"
   ]
  },
  {
   "cell_type": "markdown",
   "metadata": {},
   "source": [
    "View a random sample of the data:"
   ]
  },
  {
   "cell_type": "code",
   "execution_count": 53,
   "metadata": {},
   "outputs": [
    {
     "data": {
      "text/html": [
       "<table class=\"data-frame\"><thead><tr><th></th><th>age</th><th>workclass</th><th>fnlwgt</th><th>education</th><th>education_num</th><th>marital_status</th><th>occupation</th><th>relationship</th><th>race</th><th>sex</th><th>capital_gain</th><th>capital_loss</th><th>hours_per_week</th><th>native_country</th><th>target</th></tr><tr><th></th><th>Int64</th><th>String</th><th>Int64</th><th>String</th><th>Int64</th><th>String</th><th>String</th><th>String</th><th>String</th><th>String</th><th>Int64</th><th>Int64</th><th>Int64</th><th>String</th><th>String</th></tr></thead><tbody><p>5 rows × 15 columns</p><tr><th>1</th><td>44</td><td> Private</td><td>278476</td><td> Some-college</td><td>10</td><td> Married-civ-spouse</td><td> Sales</td><td> Husband</td><td> White</td><td> Male</td><td>0</td><td>0</td><td>60</td><td> United-States</td><td> &gt;50K</td></tr><tr><th>2</th><td>55</td><td> Private</td><td>271710</td><td> Some-college</td><td>10</td><td> Never-married</td><td> Adm-clerical</td><td> Not-in-family</td><td> White</td><td> Male</td><td>0</td><td>0</td><td>45</td><td> United-States</td><td> &lt;=50K</td></tr><tr><th>3</th><td>54</td><td> Self-emp-inc</td><td>166459</td><td> Prof-school</td><td>15</td><td> Married-civ-spouse</td><td> Prof-specialty</td><td> Husband</td><td> White</td><td> Male</td><td>99999</td><td>0</td><td>60</td><td> United-States</td><td> &gt;50K</td></tr><tr><th>4</th><td>41</td><td> Self-emp-not-inc</td><td>141327</td><td> Masters</td><td>14</td><td> Divorced</td><td> Prof-specialty</td><td> Unmarried</td><td> White</td><td> Female</td><td>0</td><td>0</td><td>35</td><td> United-States</td><td> &lt;=50K</td></tr><tr><th>5</th><td>42</td><td> Private</td><td>137907</td><td> HS-grad</td><td>9</td><td> Divorced</td><td> Adm-clerical</td><td> Unmarried</td><td> White</td><td> Female</td><td>0</td><td>0</td><td>35</td><td> United-States</td><td> &lt;=50K</td></tr></tbody></table>"
      ],
      "text/latex": [
       "\\begin{tabular}{r|ccccccccccccccc}\n",
       "\t& age & workclass & fnlwgt & education & education\\_num & marital\\_status & occupation & relationship & race & sex & capital\\_gain & capital\\_loss & hours\\_per\\_week & native\\_country & target\\\\\n",
       "\t\\hline\n",
       "\t& Int64 & String & Int64 & String & Int64 & String & String & String & String & String & Int64 & Int64 & Int64 & String & String\\\\\n",
       "\t\\hline\n",
       "\t1 & 44 &  Private & 278476 &  Some-college & 10 &  Married-civ-spouse &  Sales &  Husband &  White &  Male & 0 & 0 & 60 &  United-States &  >50K \\\\\n",
       "\t2 & 55 &  Private & 271710 &  Some-college & 10 &  Never-married &  Adm-clerical &  Not-in-family &  White &  Male & 0 & 0 & 45 &  United-States &  <=50K \\\\\n",
       "\t3 & 54 &  Self-emp-inc & 166459 &  Prof-school & 15 &  Married-civ-spouse &  Prof-specialty &  Husband &  White &  Male & 99999 & 0 & 60 &  United-States &  >50K \\\\\n",
       "\t4 & 41 &  Self-emp-not-inc & 141327 &  Masters & 14 &  Divorced &  Prof-specialty &  Unmarried &  White &  Female & 0 & 0 & 35 &  United-States &  <=50K \\\\\n",
       "\t5 & 42 &  Private & 137907 &  HS-grad & 9 &  Divorced &  Adm-clerical &  Unmarried &  White &  Female & 0 & 0 & 35 &  United-States &  <=50K \\\\\n",
       "\\end{tabular}\n"
      ],
      "text/plain": [
       "\u001b[1m5×15 DataFrame\u001b[0m\n",
       "\u001b[1m Row \u001b[0m│\u001b[1m age   \u001b[0m\u001b[1m workclass         \u001b[0m\u001b[1m fnlwgt \u001b[0m\u001b[1m education     \u001b[0m\u001b[1m education_num \u001b[0m\u001b[1m marital_status      \u001b[0m\u001b[1m occupation      \u001b[0m\u001b[1m relationship   \u001b[0m\u001b[1m race   \u001b[0m\u001b[1m sex     \u001b[0m\u001b[1m capital_gain \u001b[0m\u001b[1m capital_loss \u001b[0m\u001b[1m hours_per_week \u001b[0m\u001b[1m native_country \u001b[0m\u001b[1m target \u001b[0m\n",
       "\u001b[1m     \u001b[0m│\u001b[90m Int64 \u001b[0m\u001b[90m String            \u001b[0m\u001b[90m Int64  \u001b[0m\u001b[90m String        \u001b[0m\u001b[90m Int64         \u001b[0m\u001b[90m String              \u001b[0m\u001b[90m String          \u001b[0m\u001b[90m String         \u001b[0m\u001b[90m String \u001b[0m\u001b[90m String  \u001b[0m\u001b[90m Int64        \u001b[0m\u001b[90m Int64        \u001b[0m\u001b[90m Int64          \u001b[0m\u001b[90m String         \u001b[0m\u001b[90m String \u001b[0m\n",
       "─────┼───────────────────────────────────────────────────────────────────────────────────────────────────────────────────────────────────────────────────────────────────────────────────────────────────────────\n",
       "   1 │    44   Private           278476   Some-college             10   Married-civ-spouse   Sales            Husband         White   Male               0             0              60   United-States   >50K\n",
       "   2 │    55   Private           271710   Some-college             10   Never-married        Adm-clerical     Not-in-family   White   Male               0             0              45   United-States   <=50K\n",
       "   3 │    54   Self-emp-inc      166459   Prof-school              15   Married-civ-spouse   Prof-specialty   Husband         White   Male           99999             0              60   United-States   >50K\n",
       "   4 │    41   Self-emp-not-inc  141327   Masters                  14   Divorced             Prof-specialty   Unmarried       White   Female             0             0              35   United-States   <=50K\n",
       "   5 │    42   Private           137907   HS-grad                   9   Divorced             Adm-clerical     Unmarried       White   Female             0             0              35   United-States   <=50K"
      ]
     },
     "execution_count": 53,
     "metadata": {},
     "output_type": "execute_result"
    }
   ],
   "source": [
    "rand(eachrow(dftrain), 5) |> DataFrame"
   ]
  },
  {
   "cell_type": "code",
   "execution_count": 54,
   "metadata": {},
   "outputs": [],
   "source": [
    "dftest = @pipe CSV.File(\"adult.test\", header=false, skipto=2) |>\n",
    "DataFrame |>\n",
    "shuffle |>\n",
    "rename(_, headers);"
   ]
  },
  {
   "cell_type": "code",
   "execution_count": 55,
   "metadata": {},
   "outputs": [
    {
     "data": {
      "text/html": [
       "<table class=\"data-frame\"><thead><tr><th></th><th>age</th><th>workclass</th><th>fnlwgt</th><th>education</th><th>education_num</th><th>marital_status</th><th>occupation</th><th>relationship</th><th>race</th><th>sex</th><th>capital_gain</th><th>capital_loss</th><th>hours_per_week</th><th>native_country</th><th>target</th></tr><tr><th></th><th>Int64</th><th>String</th><th>Int64</th><th>String</th><th>Int64</th><th>String</th><th>String</th><th>String</th><th>String</th><th>String</th><th>Int64</th><th>Int64</th><th>Int64</th><th>String</th><th>String</th></tr></thead><tbody><p>5 rows × 15 columns</p><tr><th>1</th><td>30</td><td> Self-emp-not-inc</td><td>96480</td><td> Masters</td><td>14</td><td> Married-civ-spouse</td><td> Prof-specialty</td><td> Wife</td><td> White</td><td> Female</td><td>0</td><td>0</td><td>60</td><td> United-States</td><td> &gt;50K.</td></tr><tr><th>2</th><td>42</td><td> Federal-gov</td><td>178074</td><td> Masters</td><td>14</td><td> Married-civ-spouse</td><td> Adm-clerical</td><td> Wife</td><td> White</td><td> Female</td><td>0</td><td>1902</td><td>40</td><td> United-States</td><td> &gt;50K.</td></tr><tr><th>3</th><td>62</td><td> Private</td><td>185503</td><td> Masters</td><td>14</td><td> Married-civ-spouse</td><td> Exec-managerial</td><td> Husband</td><td> White</td><td> Male</td><td>0</td><td>0</td><td>50</td><td> United-States</td><td> &gt;50K.</td></tr><tr><th>4</th><td>42</td><td> Private</td><td>350550</td><td> Some-college</td><td>10</td><td> Married-civ-spouse</td><td> Machine-op-inspct</td><td> Husband</td><td> White</td><td> Male</td><td>0</td><td>0</td><td>45</td><td> United-States</td><td> &lt;=50K.</td></tr><tr><th>5</th><td>37</td><td> Private</td><td>35429</td><td> HS-grad</td><td>9</td><td> Never-married</td><td> Machine-op-inspct</td><td> Unmarried</td><td> White</td><td> Male</td><td>1506</td><td>0</td><td>40</td><td> United-States</td><td> &lt;=50K.</td></tr></tbody></table>"
      ],
      "text/latex": [
       "\\begin{tabular}{r|ccccccccccccccc}\n",
       "\t& age & workclass & fnlwgt & education & education\\_num & marital\\_status & occupation & relationship & race & sex & capital\\_gain & capital\\_loss & hours\\_per\\_week & native\\_country & target\\\\\n",
       "\t\\hline\n",
       "\t& Int64 & String & Int64 & String & Int64 & String & String & String & String & String & Int64 & Int64 & Int64 & String & String\\\\\n",
       "\t\\hline\n",
       "\t1 & 30 &  Self-emp-not-inc & 96480 &  Masters & 14 &  Married-civ-spouse &  Prof-specialty &  Wife &  White &  Female & 0 & 0 & 60 &  United-States &  >50K. \\\\\n",
       "\t2 & 42 &  Federal-gov & 178074 &  Masters & 14 &  Married-civ-spouse &  Adm-clerical &  Wife &  White &  Female & 0 & 1902 & 40 &  United-States &  >50K. \\\\\n",
       "\t3 & 62 &  Private & 185503 &  Masters & 14 &  Married-civ-spouse &  Exec-managerial &  Husband &  White &  Male & 0 & 0 & 50 &  United-States &  >50K. \\\\\n",
       "\t4 & 42 &  Private & 350550 &  Some-college & 10 &  Married-civ-spouse &  Machine-op-inspct &  Husband &  White &  Male & 0 & 0 & 45 &  United-States &  <=50K. \\\\\n",
       "\t5 & 37 &  Private & 35429 &  HS-grad & 9 &  Never-married &  Machine-op-inspct &  Unmarried &  White &  Male & 1506 & 0 & 40 &  United-States &  <=50K. \\\\\n",
       "\\end{tabular}\n"
      ],
      "text/plain": [
       "\u001b[1m5×15 DataFrame\u001b[0m\n",
       "\u001b[1m Row \u001b[0m│\u001b[1m age   \u001b[0m\u001b[1m workclass         \u001b[0m\u001b[1m fnlwgt \u001b[0m\u001b[1m education     \u001b[0m\u001b[1m education_num \u001b[0m\u001b[1m marital_status      \u001b[0m\u001b[1m occupation         \u001b[0m\u001b[1m relationship \u001b[0m\u001b[1m race   \u001b[0m\u001b[1m sex     \u001b[0m\u001b[1m capital_gain \u001b[0m\u001b[1m capital_loss \u001b[0m\u001b[1m hours_per_week \u001b[0m\u001b[1m native_country \u001b[0m\u001b[1m target  \u001b[0m\n",
       "\u001b[1m     \u001b[0m│\u001b[90m Int64 \u001b[0m\u001b[90m String            \u001b[0m\u001b[90m Int64  \u001b[0m\u001b[90m String        \u001b[0m\u001b[90m Int64         \u001b[0m\u001b[90m String              \u001b[0m\u001b[90m String             \u001b[0m\u001b[90m String       \u001b[0m\u001b[90m String \u001b[0m\u001b[90m String  \u001b[0m\u001b[90m Int64        \u001b[0m\u001b[90m Int64        \u001b[0m\u001b[90m Int64          \u001b[0m\u001b[90m String         \u001b[0m\u001b[90m String  \u001b[0m\n",
       "─────┼─────────────────────────────────────────────────────────────────────────────────────────────────────────────────────────────────────────────────────────────────────────────────────────────────────────────\n",
       "   1 │    30   Self-emp-not-inc   96480   Masters                  14   Married-civ-spouse   Prof-specialty      Wife          White   Female             0             0              60   United-States   >50K.\n",
       "   2 │    42   Federal-gov       178074   Masters                  14   Married-civ-spouse   Adm-clerical        Wife          White   Female             0          1902              40   United-States   >50K.\n",
       "   3 │    62   Private           185503   Masters                  14   Married-civ-spouse   Exec-managerial     Husband       White   Male               0             0              50   United-States   >50K.\n",
       "   4 │    42   Private           350550   Some-college             10   Married-civ-spouse   Machine-op-inspct   Husband       White   Male               0             0              45   United-States   <=50K.\n",
       "   5 │    37   Private            35429   HS-grad                   9   Never-married        Machine-op-inspct   Unmarried     White   Male            1506             0              40   United-States   <=50K."
      ]
     },
     "execution_count": 55,
     "metadata": {},
     "output_type": "execute_result"
    }
   ],
   "source": [
    "rand(eachrow(dftest), 5) |> DataFrame"
   ]
  },
  {
   "cell_type": "code",
   "execution_count": 56,
   "metadata": {},
   "outputs": [
    {
     "data": {
      "text/html": [
       "<table class=\"data-frame\"><thead><tr><th></th><th>variable</th><th>mean</th><th>min</th><th>median</th><th>max</th><th>nmissing</th><th>eltype</th></tr><tr><th></th><th>Symbol</th><th>Union…</th><th>Any</th><th>Union…</th><th>Any</th><th>Int64</th><th>DataType</th></tr></thead><tbody><p>15 rows × 7 columns</p><tr><th>1</th><td>age</td><td>38.5816</td><td>17</td><td>37.0</td><td>90</td><td>0</td><td>Int64</td></tr><tr><th>2</th><td>workclass</td><td></td><td> ?</td><td></td><td> Without-pay</td><td>0</td><td>String</td></tr><tr><th>3</th><td>fnlwgt</td><td>1.89782e5</td><td>12285</td><td>178363.0</td><td>1484705</td><td>0</td><td>Int64</td></tr><tr><th>4</th><td>education</td><td></td><td> 10th</td><td></td><td> Some-college</td><td>0</td><td>String</td></tr><tr><th>5</th><td>education_num</td><td>10.0806</td><td>1</td><td>10.0</td><td>16</td><td>0</td><td>Int64</td></tr><tr><th>6</th><td>marital_status</td><td></td><td> Divorced</td><td></td><td> Widowed</td><td>0</td><td>String</td></tr><tr><th>7</th><td>occupation</td><td></td><td> ?</td><td></td><td> Transport-moving</td><td>0</td><td>String</td></tr><tr><th>8</th><td>relationship</td><td></td><td> Husband</td><td></td><td> Wife</td><td>0</td><td>String</td></tr><tr><th>9</th><td>race</td><td></td><td> Amer-Indian-Eskimo</td><td></td><td> White</td><td>0</td><td>String</td></tr><tr><th>10</th><td>sex</td><td></td><td> Female</td><td></td><td> Male</td><td>0</td><td>String</td></tr><tr><th>11</th><td>capital_gain</td><td>1077.62</td><td>0</td><td>0.0</td><td>99999</td><td>0</td><td>Int64</td></tr><tr><th>12</th><td>capital_loss</td><td>87.3065</td><td>0</td><td>0.0</td><td>4356</td><td>0</td><td>Int64</td></tr><tr><th>13</th><td>hours_per_week</td><td>40.4375</td><td>1</td><td>40.0</td><td>99</td><td>0</td><td>Int64</td></tr><tr><th>14</th><td>native_country</td><td></td><td> ?</td><td></td><td> Yugoslavia</td><td>0</td><td>String</td></tr><tr><th>15</th><td>target</td><td></td><td> &lt;=50K</td><td></td><td> &gt;50K</td><td>0</td><td>String</td></tr></tbody></table>"
      ],
      "text/latex": [
       "\\begin{tabular}{r|ccccccc}\n",
       "\t& variable & mean & min & median & max & nmissing & eltype\\\\\n",
       "\t\\hline\n",
       "\t& Symbol & Union… & Any & Union… & Any & Int64 & DataType\\\\\n",
       "\t\\hline\n",
       "\t1 & age & 38.5816 & 17 & 37.0 & 90 & 0 & Int64 \\\\\n",
       "\t2 & workclass &  &  ? &  &  Without-pay & 0 & String \\\\\n",
       "\t3 & fnlwgt & 1.89782e5 & 12285 & 178363.0 & 1484705 & 0 & Int64 \\\\\n",
       "\t4 & education &  &  10th &  &  Some-college & 0 & String \\\\\n",
       "\t5 & education\\_num & 10.0806 & 1 & 10.0 & 16 & 0 & Int64 \\\\\n",
       "\t6 & marital\\_status &  &  Divorced &  &  Widowed & 0 & String \\\\\n",
       "\t7 & occupation &  &  ? &  &  Transport-moving & 0 & String \\\\\n",
       "\t8 & relationship &  &  Husband &  &  Wife & 0 & String \\\\\n",
       "\t9 & race &  &  Amer-Indian-Eskimo &  &  White & 0 & String \\\\\n",
       "\t10 & sex &  &  Female &  &  Male & 0 & String \\\\\n",
       "\t11 & capital\\_gain & 1077.62 & 0 & 0.0 & 99999 & 0 & Int64 \\\\\n",
       "\t12 & capital\\_loss & 87.3065 & 0 & 0.0 & 4356 & 0 & Int64 \\\\\n",
       "\t13 & hours\\_per\\_week & 40.4375 & 1 & 40.0 & 99 & 0 & Int64 \\\\\n",
       "\t14 & native\\_country &  &  ? &  &  Yugoslavia & 0 & String \\\\\n",
       "\t15 & target &  &  <=50K &  &  >50K & 0 & String \\\\\n",
       "\\end{tabular}\n"
      ],
      "text/plain": [
       "\u001b[1m15×7 DataFrame\u001b[0m\n",
       "\u001b[1m Row \u001b[0m│\u001b[1m variable       \u001b[0m\u001b[1m mean      \u001b[0m\u001b[1m min                 \u001b[0m\u001b[1m median   \u001b[0m\u001b[1m max               \u001b[0m\u001b[1m nmissing \u001b[0m\u001b[1m eltype   \u001b[0m\n",
       "\u001b[1m     \u001b[0m│\u001b[90m Symbol         \u001b[0m\u001b[90m Union…    \u001b[0m\u001b[90m Any                 \u001b[0m\u001b[90m Union…   \u001b[0m\u001b[90m Any               \u001b[0m\u001b[90m Int64    \u001b[0m\u001b[90m DataType \u001b[0m\n",
       "─────┼─────────────────────────────────────────────────────────────────────────────────────────────────\n",
       "   1 │ age             38.5816    17                   37.0      90                        0  Int64\n",
       "   2 │ workclass      \u001b[90m           \u001b[0m  ?                  \u001b[90m          \u001b[0m  Without-pay              0  String\n",
       "   3 │ fnlwgt          1.89782e5  12285                178363.0  1484705                   0  Int64\n",
       "   4 │ education      \u001b[90m           \u001b[0m  10th               \u001b[90m          \u001b[0m  Some-college             0  String\n",
       "   5 │ education_num   10.0806    1                    10.0      16                        0  Int64\n",
       "   6 │ marital_status \u001b[90m           \u001b[0m  Divorced           \u001b[90m          \u001b[0m  Widowed                  0  String\n",
       "   7 │ occupation     \u001b[90m           \u001b[0m  ?                  \u001b[90m          \u001b[0m  Transport-moving         0  String\n",
       "   8 │ relationship   \u001b[90m           \u001b[0m  Husband            \u001b[90m          \u001b[0m  Wife                     0  String\n",
       "   9 │ race           \u001b[90m           \u001b[0m  Amer-Indian-Eskimo \u001b[90m          \u001b[0m  White                    0  String\n",
       "  10 │ sex            \u001b[90m           \u001b[0m  Female             \u001b[90m          \u001b[0m  Male                     0  String\n",
       "  11 │ capital_gain    1077.62    0                    0.0       99999                     0  Int64\n",
       "  12 │ capital_loss    87.3065    0                    0.0       4356                      0  Int64\n",
       "  13 │ hours_per_week  40.4375    1                    40.0      99                        0  Int64\n",
       "  14 │ native_country \u001b[90m           \u001b[0m  ?                  \u001b[90m          \u001b[0m  Yugoslavia               0  String\n",
       "  15 │ target         \u001b[90m           \u001b[0m  <=50K              \u001b[90m          \u001b[0m  >50K                     0  String"
      ]
     },
     "execution_count": 56,
     "metadata": {},
     "output_type": "execute_result"
    }
   ],
   "source": [
    "describe(dftrain)"
   ]
  },
  {
   "cell_type": "code",
   "execution_count": 57,
   "metadata": {},
   "outputs": [
    {
     "data": {
      "text/plain": [
       "4-element Vector{String}:\n",
       " \" <=50K\"\n",
       " \" >50K\"\n",
       " \" >50K.\"\n",
       " \" <=50K.\""
      ]
     },
     "execution_count": 57,
     "metadata": {},
     "output_type": "execute_result"
    }
   ],
   "source": [
    "unique(vcat(dftrain.target, dftest.target))"
   ]
  },
  {
   "cell_type": "code",
   "execution_count": 58,
   "metadata": {},
   "outputs": [],
   "source": [
    "dftest.target = replace.(dftest.target, \".\" => \"\");"
   ]
  },
  {
   "cell_type": "code",
   "execution_count": 67,
   "metadata": {},
   "outputs": [],
   "source": [
    "dftrain = @pipe CSV.File(\"adult.data\") |>\n",
    "DataFrame |>\n",
    "shuffle |>\n",
    "rename(_, headers);"
   ]
  },
  {
   "cell_type": "code",
   "execution_count": 68,
   "metadata": {},
   "outputs": [
    {
     "name": "stdout",
     "output_type": "stream",
     "text": [
      "length(trainids) = 26048\n",
      "length(validatids) = 6512\n"
     ]
    },
    {
     "data": {
      "text/plain": [
       "6512"
      ]
     },
     "execution_count": 68,
     "metadata": {},
     "output_type": "execute_result"
    }
   ],
   "source": [
    "lentrain = floor(Int, .8 * nrow(dftrain))\n",
    "trainids = sample(1:nrow(dftrain), lentrain, replace=false)\n",
    "validatids = setdiff(1:nrow(dftrain), trainids)\n",
    "\n",
    "@show length(trainids)\n",
    "@show length(validatids)"
   ]
  },
  {
   "cell_type": "code",
   "execution_count": 69,
   "metadata": {},
   "outputs": [
    {
     "data": {
      "text/html": [
       "<table class=\"data-frame\"><thead><tr><th></th><th>age</th><th>workclass</th><th>fnlwgt</th><th>education</th><th>education_num</th><th>marital_status</th><th>occupation</th><th>relationship</th><th>race</th><th>sex</th><th>capital_gain</th><th>capital_loss</th><th>hours_per_week</th><th>native_country</th><th>target</th></tr><tr><th></th><th>Int64</th><th>Int64</th><th>Int64</th><th>Int64</th><th>Int64</th><th>Int64</th><th>Int64</th><th>Int64</th><th>Int64</th><th>Int64</th><th>Int64</th><th>Int64</th><th>Int64</th><th>Int64</th><th>Int64</th></tr></thead><tbody><p>5 rows × 15 columns</p><tr><th>1</th><td>23</td><td>2</td><td>200318</td><td>10</td><td>12</td><td>4</td><td>5</td><td>4</td><td>1</td><td>2</td><td>0</td><td>0</td><td>20</td><td>1</td><td>1</td></tr><tr><th>2</th><td>32</td><td>5</td><td>240979</td><td>3</td><td>10</td><td>1</td><td>2</td><td>1</td><td>1</td><td>1</td><td>0</td><td>0</td><td>60</td><td>1</td><td>0</td></tr><tr><th>3</th><td>20</td><td>2</td><td>691830</td><td>4</td><td>9</td><td>4</td><td>8</td><td>3</td><td>2</td><td>2</td><td>0</td><td>0</td><td>35</td><td>1</td><td>1</td></tr><tr><th>4</th><td>33</td><td>2</td><td>134886</td><td>3</td><td>10</td><td>4</td><td>5</td><td>3</td><td>1</td><td>2</td><td>99999</td><td>0</td><td>30</td><td>1</td><td>0</td></tr><tr><th>5</th><td>57</td><td>2</td><td>223214</td><td>4</td><td>9</td><td>1</td><td>8</td><td>1</td><td>1</td><td>1</td><td>0</td><td>0</td><td>50</td><td>1</td><td>1</td></tr></tbody></table>"
      ],
      "text/latex": [
       "\\begin{tabular}{r|ccccccccccccccc}\n",
       "\t& age & workclass & fnlwgt & education & education\\_num & marital\\_status & occupation & relationship & race & sex & capital\\_gain & capital\\_loss & hours\\_per\\_week & native\\_country & target\\\\\n",
       "\t\\hline\n",
       "\t& Int64 & Int64 & Int64 & Int64 & Int64 & Int64 & Int64 & Int64 & Int64 & Int64 & Int64 & Int64 & Int64 & Int64 & Int64\\\\\n",
       "\t\\hline\n",
       "\t1 & 23 & 2 & 200318 & 10 & 12 & 4 & 5 & 4 & 1 & 2 & 0 & 0 & 20 & 1 & 1 \\\\\n",
       "\t2 & 32 & 5 & 240979 & 3 & 10 & 1 & 2 & 1 & 1 & 1 & 0 & 0 & 60 & 1 & 0 \\\\\n",
       "\t3 & 20 & 2 & 691830 & 4 & 9 & 4 & 8 & 3 & 2 & 2 & 0 & 0 & 35 & 1 & 1 \\\\\n",
       "\t4 & 33 & 2 & 134886 & 3 & 10 & 4 & 5 & 3 & 1 & 2 & 99999 & 0 & 30 & 1 & 0 \\\\\n",
       "\t5 & 57 & 2 & 223214 & 4 & 9 & 1 & 8 & 1 & 1 & 1 & 0 & 0 & 50 & 1 & 1 \\\\\n",
       "\\end{tabular}\n"
      ],
      "text/plain": [
       "\u001b[1m5×15 DataFrame\u001b[0m\n",
       "\u001b[1m Row \u001b[0m│\u001b[1m age   \u001b[0m\u001b[1m workclass \u001b[0m\u001b[1m fnlwgt \u001b[0m\u001b[1m education \u001b[0m\u001b[1m education_num \u001b[0m\u001b[1m marital_status \u001b[0m\u001b[1m occupation \u001b[0m\u001b[1m relationship \u001b[0m\u001b[1m race  \u001b[0m\u001b[1m sex   \u001b[0m\u001b[1m capital_gain \u001b[0m\u001b[1m capital_loss \u001b[0m\u001b[1m hours_per_week \u001b[0m\u001b[1m native_country \u001b[0m\u001b[1m target \u001b[0m\n",
       "\u001b[1m     \u001b[0m│\u001b[90m Int64 \u001b[0m\u001b[90m Int64     \u001b[0m\u001b[90m Int64  \u001b[0m\u001b[90m Int64     \u001b[0m\u001b[90m Int64         \u001b[0m\u001b[90m Int64          \u001b[0m\u001b[90m Int64      \u001b[0m\u001b[90m Int64        \u001b[0m\u001b[90m Int64 \u001b[0m\u001b[90m Int64 \u001b[0m\u001b[90m Int64        \u001b[0m\u001b[90m Int64        \u001b[0m\u001b[90m Int64          \u001b[0m\u001b[90m Int64          \u001b[0m\u001b[90m Int64  \u001b[0m\n",
       "─────┼────────────────────────────────────────────────────────────────────────────────────────────────────────────────────────────────────────────────────────────────────────────────\n",
       "   1 │    23          2  200318         10             12               4           5             4      1      2             0             0              20               1       1\n",
       "   2 │    32          5  240979          3             10               1           2             1      1      1             0             0              60               1       0\n",
       "   3 │    20          2  691830          4              9               4           8             3      2      2             0             0              35               1       1\n",
       "   4 │    33          2  134886          3             10               4           5             3      1      2         99999             0              30               1       0\n",
       "   5 │    57          2  223214          4              9               1           8             1      1      1             0             0              50               1       1"
      ]
     },
     "execution_count": 69,
     "metadata": {},
     "output_type": "execute_result"
    }
   ],
   "source": [
    "function encodetarget(target)    \n",
    "    map(x -> x == \" <=50K\" ? true : false, target)\n",
    "end\n",
    "\n",
    "function encodecat(col)\n",
    "    @pipe col |>\n",
    "        labelmap |>\n",
    "        labelencode(_, col)\n",
    "end\n",
    "\n",
    "function encodecat(df::DataFrame)\n",
    "    catcols = select(df, findall(col -> eltype(col) <: String, eachcol(df)))\n",
    "    for (colname, col) in zip(names(catcols), eachcol(catcols))\n",
    "        df = DataFrames.transform(df, colname => encodecat => colname)\n",
    "    end\n",
    "    df\n",
    "end\n",
    "\n",
    "function normalizenumcols(df::DataFrame)\n",
    "    normalize(data) = (data .- mean(data, dims=1)) ./ std(data, dims=1)\n",
    "    \n",
    "    numcols = select(df, findall(col -> eltype(col) <: Number, eachcol(df)))\n",
    "    for (colname, col) in zip(names(numcols), eachcol(numcols))\n",
    "        df = DataFrames.transform(df, colname => normalize => colname)\n",
    "    end\n",
    "    df\n",
    "end\n",
    "\n",
    "function preprocesspipe(df)\n",
    "    @pipe df |>\n",
    "    encodecat |>\n",
    "#     normalizenumcols |>\n",
    "    Matrix\n",
    "end\n",
    "\n",
    "ytrain = encodetarget(dftrain[trainids, :target])\n",
    "Xtrain = preprocesspipe(dftrain[trainids, Not(:target)])\n",
    "yvalidat = encodetarget(dftrain[validatids, :target])\n",
    "Xvalidat = preprocesspipe(dftrain[validatids, Not(:target)])\n",
    "ytest = encodetarget(dftest[:, :target])\n",
    "Xtest = preprocesspipe(dftest[:, Not(:target)])\n",
    "\n",
    "@pipe hcat(Xtrain, ytrain) |> DataFrame(_, headers) |> rand(eachrow(_), 5) |> DataFrame"
   ]
  },
  {
   "cell_type": "code",
   "execution_count": 72,
   "metadata": {},
   "outputs": [
    {
     "data": {
      "image/svg+xml": [
       "<?xml version=\"1.0\" encoding=\"utf-8\"?>\n",
       "<svg xmlns=\"http://www.w3.org/2000/svg\" xmlns:xlink=\"http://www.w3.org/1999/xlink\" width=\"600\" height=\"400\" viewBox=\"0 0 2400 1600\">\n",
       "<defs>\n",
       "  <clipPath id=\"clip600\">\n",
       "    <rect x=\"0\" y=\"0\" width=\"2400\" height=\"1600\"/>\n",
       "  </clipPath>\n",
       "</defs>\n",
       "<path clip-path=\"url(#clip600)\" d=\"\n",
       "M0 1600 L2400 1600 L2400 0 L0 0  Z\n",
       "  \" fill=\"#ffffff\" fill-rule=\"evenodd\" fill-opacity=\"1\"/>\n",
       "<defs>\n",
       "  <clipPath id=\"clip601\">\n",
       "    <rect x=\"480\" y=\"0\" width=\"1681\" height=\"1600\"/>\n",
       "  </clipPath>\n",
       "</defs>\n",
       "<path clip-path=\"url(#clip600)\" d=\"\n",
       "M306.435 1486.45 L2352.76 1486.45 L2352.76 47.2441 L306.435 47.2441  Z\n",
       "  \" fill=\"#ffffff\" fill-rule=\"evenodd\" fill-opacity=\"1\"/>\n",
       "<defs>\n",
       "  <clipPath id=\"clip602\">\n",
       "    <rect x=\"306\" y=\"47\" width=\"2047\" height=\"1440\"/>\n",
       "  </clipPath>\n",
       "</defs>\n",
       "<polyline clip-path=\"url(#clip602)\" style=\"stroke:#000000; stroke-linecap:butt; stroke-linejoin:round; stroke-width:2; stroke-opacity:0.1; fill:none\" points=\"\n",
       "  418.987,1486.45 418.987,47.2441 \n",
       "  \"/>\n",
       "<polyline clip-path=\"url(#clip602)\" style=\"stroke:#000000; stroke-linecap:butt; stroke-linejoin:round; stroke-width:2; stroke-opacity:0.1; fill:none\" points=\"\n",
       "  832.9,1486.45 832.9,47.2441 \n",
       "  \"/>\n",
       "<polyline clip-path=\"url(#clip602)\" style=\"stroke:#000000; stroke-linecap:butt; stroke-linejoin:round; stroke-width:2; stroke-opacity:0.1; fill:none\" points=\"\n",
       "  1246.81,1486.45 1246.81,47.2441 \n",
       "  \"/>\n",
       "<polyline clip-path=\"url(#clip602)\" style=\"stroke:#000000; stroke-linecap:butt; stroke-linejoin:round; stroke-width:2; stroke-opacity:0.1; fill:none\" points=\"\n",
       "  1660.73,1486.45 1660.73,47.2441 \n",
       "  \"/>\n",
       "<polyline clip-path=\"url(#clip602)\" style=\"stroke:#000000; stroke-linecap:butt; stroke-linejoin:round; stroke-width:2; stroke-opacity:0.1; fill:none\" points=\"\n",
       "  2074.64,1486.45 2074.64,47.2441 \n",
       "  \"/>\n",
       "<polyline clip-path=\"url(#clip600)\" style=\"stroke:#000000; stroke-linecap:butt; stroke-linejoin:round; stroke-width:4; stroke-opacity:1; fill:none\" points=\"\n",
       "  306.435,1486.45 2352.76,1486.45 \n",
       "  \"/>\n",
       "<polyline clip-path=\"url(#clip600)\" style=\"stroke:#000000; stroke-linecap:butt; stroke-linejoin:round; stroke-width:4; stroke-opacity:1; fill:none\" points=\"\n",
       "  418.987,1486.45 418.987,1469.18 \n",
       "  \"/>\n",
       "<polyline clip-path=\"url(#clip600)\" style=\"stroke:#000000; stroke-linecap:butt; stroke-linejoin:round; stroke-width:4; stroke-opacity:1; fill:none\" points=\"\n",
       "  832.9,1486.45 832.9,1469.18 \n",
       "  \"/>\n",
       "<polyline clip-path=\"url(#clip600)\" style=\"stroke:#000000; stroke-linecap:butt; stroke-linejoin:round; stroke-width:4; stroke-opacity:1; fill:none\" points=\"\n",
       "  1246.81,1486.45 1246.81,1469.18 \n",
       "  \"/>\n",
       "<polyline clip-path=\"url(#clip600)\" style=\"stroke:#000000; stroke-linecap:butt; stroke-linejoin:round; stroke-width:4; stroke-opacity:1; fill:none\" points=\"\n",
       "  1660.73,1486.45 1660.73,1469.18 \n",
       "  \"/>\n",
       "<polyline clip-path=\"url(#clip600)\" style=\"stroke:#000000; stroke-linecap:butt; stroke-linejoin:round; stroke-width:4; stroke-opacity:1; fill:none\" points=\"\n",
       "  2074.64,1486.45 2074.64,1469.18 \n",
       "  \"/>\n",
       "<path clip-path=\"url(#clip600)\" d=\"M381.29 1515.64 Q377.679 1515.64 375.85 1519.2 Q374.045 1522.75 374.045 1529.87 Q374.045 1536.98 375.85 1540.55 Q377.679 1544.09 381.29 1544.09 Q384.924 1544.09 386.73 1540.55 Q388.559 1536.98 388.559 1529.87 Q388.559 1522.75 386.73 1519.2 Q384.924 1515.64 381.29 1515.64 M381.29 1511.93 Q387.1 1511.93 390.156 1516.54 Q393.234 1521.12 393.234 1529.87 Q393.234 1538.6 390.156 1543.21 Q387.1 1547.79 381.29 1547.79 Q375.48 1547.79 372.401 1543.21 Q369.346 1538.6 369.346 1529.87 Q369.346 1521.12 372.401 1516.54 Q375.48 1511.93 381.29 1511.93 Z\" fill=\"#000000\" fill-rule=\"evenodd\" fill-opacity=\"1\" /><path clip-path=\"url(#clip600)\" d=\"M401.452 1541.24 L406.336 1541.24 L406.336 1547.12 L401.452 1547.12 L401.452 1541.24 Z\" fill=\"#000000\" fill-rule=\"evenodd\" fill-opacity=\"1\" /><path clip-path=\"url(#clip600)\" d=\"M426.521 1515.64 Q422.91 1515.64 421.082 1519.2 Q419.276 1522.75 419.276 1529.87 Q419.276 1536.98 421.082 1540.55 Q422.91 1544.09 426.521 1544.09 Q430.156 1544.09 431.961 1540.55 Q433.79 1536.98 433.79 1529.87 Q433.79 1522.75 431.961 1519.2 Q430.156 1515.64 426.521 1515.64 M426.521 1511.93 Q432.332 1511.93 435.387 1516.54 Q438.466 1521.12 438.466 1529.87 Q438.466 1538.6 435.387 1543.21 Q432.332 1547.79 426.521 1547.79 Q420.711 1547.79 417.633 1543.21 Q414.577 1538.6 414.577 1529.87 Q414.577 1521.12 417.633 1516.54 Q420.711 1511.93 426.521 1511.93 Z\" fill=\"#000000\" fill-rule=\"evenodd\" fill-opacity=\"1\" /><path clip-path=\"url(#clip600)\" d=\"M456.683 1515.64 Q453.072 1515.64 451.243 1519.2 Q449.438 1522.75 449.438 1529.87 Q449.438 1536.98 451.243 1540.55 Q453.072 1544.09 456.683 1544.09 Q460.317 1544.09 462.123 1540.55 Q463.952 1536.98 463.952 1529.87 Q463.952 1522.75 462.123 1519.2 Q460.317 1515.64 456.683 1515.64 M456.683 1511.93 Q462.493 1511.93 465.549 1516.54 Q468.628 1521.12 468.628 1529.87 Q468.628 1538.6 465.549 1543.21 Q462.493 1547.79 456.683 1547.79 Q450.873 1547.79 447.794 1543.21 Q444.739 1538.6 444.739 1529.87 Q444.739 1521.12 447.794 1516.54 Q450.873 1511.93 456.683 1511.93 Z\" fill=\"#000000\" fill-rule=\"evenodd\" fill-opacity=\"1\" /><path clip-path=\"url(#clip600)\" d=\"M795.701 1515.64 Q792.09 1515.64 790.261 1519.2 Q788.456 1522.75 788.456 1529.87 Q788.456 1536.98 790.261 1540.55 Q792.09 1544.09 795.701 1544.09 Q799.335 1544.09 801.141 1540.55 Q802.969 1536.98 802.969 1529.87 Q802.969 1522.75 801.141 1519.2 Q799.335 1515.64 795.701 1515.64 M795.701 1511.93 Q801.511 1511.93 804.567 1516.54 Q807.645 1521.12 807.645 1529.87 Q807.645 1538.6 804.567 1543.21 Q801.511 1547.79 795.701 1547.79 Q789.891 1547.79 786.812 1543.21 Q783.757 1538.6 783.757 1529.87 Q783.757 1521.12 786.812 1516.54 Q789.891 1511.93 795.701 1511.93 Z\" fill=\"#000000\" fill-rule=\"evenodd\" fill-opacity=\"1\" /><path clip-path=\"url(#clip600)\" d=\"M815.863 1541.24 L820.747 1541.24 L820.747 1547.12 L815.863 1547.12 L815.863 1541.24 Z\" fill=\"#000000\" fill-rule=\"evenodd\" fill-opacity=\"1\" /><path clip-path=\"url(#clip600)\" d=\"M834.96 1543.18 L851.279 1543.18 L851.279 1547.12 L829.335 1547.12 L829.335 1543.18 Q831.997 1540.43 836.58 1535.8 Q841.187 1531.15 842.367 1529.81 Q844.613 1527.28 845.492 1525.55 Q846.395 1523.79 846.395 1522.1 Q846.395 1519.34 844.451 1517.61 Q842.529 1515.87 839.428 1515.87 Q837.229 1515.87 834.775 1516.63 Q832.344 1517.4 829.567 1518.95 L829.567 1514.23 Q832.391 1513.09 834.844 1512.51 Q837.298 1511.93 839.335 1511.93 Q844.705 1511.93 847.9 1514.62 Q851.094 1517.31 851.094 1521.8 Q851.094 1523.93 850.284 1525.85 Q849.497 1527.74 847.391 1530.34 Q846.812 1531.01 843.71 1534.23 Q840.608 1537.42 834.96 1543.18 Z\" fill=\"#000000\" fill-rule=\"evenodd\" fill-opacity=\"1\" /><path clip-path=\"url(#clip600)\" d=\"M861.14 1512.56 L879.497 1512.56 L879.497 1516.5 L865.423 1516.5 L865.423 1524.97 Q866.441 1524.62 867.46 1524.46 Q868.478 1524.27 869.497 1524.27 Q875.284 1524.27 878.663 1527.44 Q882.043 1530.62 882.043 1536.03 Q882.043 1541.61 878.571 1544.71 Q875.099 1547.79 868.779 1547.79 Q866.603 1547.79 864.335 1547.42 Q862.089 1547.05 859.682 1546.31 L859.682 1541.61 Q861.765 1542.74 863.988 1543.3 Q866.21 1543.86 868.687 1543.86 Q872.691 1543.86 875.029 1541.75 Q877.367 1539.64 877.367 1536.03 Q877.367 1532.42 875.029 1530.31 Q872.691 1528.21 868.687 1528.21 Q866.812 1528.21 864.937 1528.62 Q863.085 1529.04 861.14 1529.92 L861.14 1512.56 Z\" fill=\"#000000\" fill-rule=\"evenodd\" fill-opacity=\"1\" /><path clip-path=\"url(#clip600)\" d=\"M1209.12 1515.64 Q1205.51 1515.64 1203.68 1519.2 Q1201.87 1522.75 1201.87 1529.87 Q1201.87 1536.98 1203.68 1540.55 Q1205.51 1544.09 1209.12 1544.09 Q1212.75 1544.09 1214.56 1540.55 Q1216.38 1536.98 1216.38 1529.87 Q1216.38 1522.75 1214.56 1519.2 Q1212.75 1515.64 1209.12 1515.64 M1209.12 1511.93 Q1214.93 1511.93 1217.98 1516.54 Q1221.06 1521.12 1221.06 1529.87 Q1221.06 1538.6 1217.98 1543.21 Q1214.93 1547.79 1209.12 1547.79 Q1203.31 1547.79 1200.23 1543.21 Q1197.17 1538.6 1197.17 1529.87 Q1197.17 1521.12 1200.23 1516.54 Q1203.31 1511.93 1209.12 1511.93 Z\" fill=\"#000000\" fill-rule=\"evenodd\" fill-opacity=\"1\" /><path clip-path=\"url(#clip600)\" d=\"M1229.28 1541.24 L1234.16 1541.24 L1234.16 1547.12 L1229.28 1547.12 L1229.28 1541.24 Z\" fill=\"#000000\" fill-rule=\"evenodd\" fill-opacity=\"1\" /><path clip-path=\"url(#clip600)\" d=\"M1244.39 1512.56 L1262.75 1512.56 L1262.75 1516.5 L1248.68 1516.5 L1248.68 1524.97 Q1249.69 1524.62 1250.71 1524.46 Q1251.73 1524.27 1252.75 1524.27 Q1258.54 1524.27 1261.92 1527.44 Q1265.3 1530.62 1265.3 1536.03 Q1265.3 1541.61 1261.82 1544.71 Q1258.35 1547.79 1252.03 1547.79 Q1249.86 1547.79 1247.59 1547.42 Q1245.34 1547.05 1242.94 1546.31 L1242.94 1541.61 Q1245.02 1542.74 1247.24 1543.3 Q1249.46 1543.86 1251.94 1543.86 Q1255.94 1543.86 1258.28 1541.75 Q1260.62 1539.64 1260.62 1536.03 Q1260.62 1532.42 1258.28 1530.31 Q1255.94 1528.21 1251.94 1528.21 Q1250.07 1528.21 1248.19 1528.62 Q1246.34 1529.04 1244.39 1529.92 L1244.39 1512.56 Z\" fill=\"#000000\" fill-rule=\"evenodd\" fill-opacity=\"1\" /><path clip-path=\"url(#clip600)\" d=\"M1284.51 1515.64 Q1280.9 1515.64 1279.07 1519.2 Q1277.26 1522.75 1277.26 1529.87 Q1277.26 1536.98 1279.07 1540.55 Q1280.9 1544.09 1284.51 1544.09 Q1288.14 1544.09 1289.95 1540.55 Q1291.78 1536.98 1291.78 1529.87 Q1291.78 1522.75 1289.95 1519.2 Q1288.14 1515.64 1284.51 1515.64 M1284.51 1511.93 Q1290.32 1511.93 1293.38 1516.54 Q1296.45 1521.12 1296.45 1529.87 Q1296.45 1538.6 1293.38 1543.21 Q1290.32 1547.79 1284.51 1547.79 Q1278.7 1547.79 1275.62 1543.21 Q1272.57 1538.6 1272.57 1529.87 Q1272.57 1521.12 1275.62 1516.54 Q1278.7 1511.93 1284.51 1511.93 Z\" fill=\"#000000\" fill-rule=\"evenodd\" fill-opacity=\"1\" /><path clip-path=\"url(#clip600)\" d=\"M1623.53 1515.64 Q1619.92 1515.64 1618.09 1519.2 Q1616.28 1522.75 1616.28 1529.87 Q1616.28 1536.98 1618.09 1540.55 Q1619.92 1544.09 1623.53 1544.09 Q1627.16 1544.09 1628.97 1540.55 Q1630.8 1536.98 1630.8 1529.87 Q1630.8 1522.75 1628.97 1519.2 Q1627.16 1515.64 1623.53 1515.64 M1623.53 1511.93 Q1629.34 1511.93 1632.39 1516.54 Q1635.47 1521.12 1635.47 1529.87 Q1635.47 1538.6 1632.39 1543.21 Q1629.34 1547.79 1623.53 1547.79 Q1617.72 1547.79 1614.64 1543.21 Q1611.58 1538.6 1611.58 1529.87 Q1611.58 1521.12 1614.64 1516.54 Q1617.72 1511.93 1623.53 1511.93 Z\" fill=\"#000000\" fill-rule=\"evenodd\" fill-opacity=\"1\" /><path clip-path=\"url(#clip600)\" d=\"M1643.69 1541.24 L1648.57 1541.24 L1648.57 1547.12 L1643.69 1547.12 L1643.69 1541.24 Z\" fill=\"#000000\" fill-rule=\"evenodd\" fill-opacity=\"1\" /><path clip-path=\"url(#clip600)\" d=\"M1657.58 1512.56 L1679.8 1512.56 L1679.8 1514.55 L1667.25 1547.12 L1662.37 1547.12 L1674.18 1516.5 L1657.58 1516.5 L1657.58 1512.56 Z\" fill=\"#000000\" fill-rule=\"evenodd\" fill-opacity=\"1\" /><path clip-path=\"url(#clip600)\" d=\"M1688.97 1512.56 L1707.32 1512.56 L1707.32 1516.5 L1693.25 1516.5 L1693.25 1524.97 Q1694.27 1524.62 1695.29 1524.46 Q1696.3 1524.27 1697.32 1524.27 Q1703.11 1524.27 1706.49 1527.44 Q1709.87 1530.62 1709.87 1536.03 Q1709.87 1541.61 1706.4 1544.71 Q1702.93 1547.79 1696.61 1547.79 Q1694.43 1547.79 1692.16 1547.42 Q1689.92 1547.05 1687.51 1546.31 L1687.51 1541.61 Q1689.59 1542.74 1691.81 1543.3 Q1694.04 1543.86 1696.51 1543.86 Q1700.52 1543.86 1702.86 1541.75 Q1705.19 1539.64 1705.19 1536.03 Q1705.19 1532.42 1702.86 1530.31 Q1700.52 1528.21 1696.51 1528.21 Q1694.64 1528.21 1692.76 1528.62 Q1690.91 1529.04 1688.97 1529.92 L1688.97 1512.56 Z\" fill=\"#000000\" fill-rule=\"evenodd\" fill-opacity=\"1\" /><path clip-path=\"url(#clip600)\" d=\"M2026.71 1543.18 L2034.35 1543.18 L2034.35 1516.82 L2026.04 1518.49 L2026.04 1514.23 L2034.3 1512.56 L2038.98 1512.56 L2038.98 1543.18 L2046.62 1543.18 L2046.62 1547.12 L2026.71 1547.12 L2026.71 1543.18 Z\" fill=\"#000000\" fill-rule=\"evenodd\" fill-opacity=\"1\" /><path clip-path=\"url(#clip600)\" d=\"M2056.06 1541.24 L2060.95 1541.24 L2060.95 1547.12 L2056.06 1547.12 L2056.06 1541.24 Z\" fill=\"#000000\" fill-rule=\"evenodd\" fill-opacity=\"1\" /><path clip-path=\"url(#clip600)\" d=\"M2081.13 1515.64 Q2077.52 1515.64 2075.69 1519.2 Q2073.89 1522.75 2073.89 1529.87 Q2073.89 1536.98 2075.69 1540.55 Q2077.52 1544.09 2081.13 1544.09 Q2084.77 1544.09 2086.57 1540.55 Q2088.4 1536.98 2088.4 1529.87 Q2088.4 1522.75 2086.57 1519.2 Q2084.77 1515.64 2081.13 1515.64 M2081.13 1511.93 Q2086.94 1511.93 2090 1516.54 Q2093.08 1521.12 2093.08 1529.87 Q2093.08 1538.6 2090 1543.21 Q2086.94 1547.79 2081.13 1547.79 Q2075.32 1547.79 2072.24 1543.21 Q2069.19 1538.6 2069.19 1529.87 Q2069.19 1521.12 2072.24 1516.54 Q2075.32 1511.93 2081.13 1511.93 Z\" fill=\"#000000\" fill-rule=\"evenodd\" fill-opacity=\"1\" /><path clip-path=\"url(#clip600)\" d=\"M2111.29 1515.64 Q2107.68 1515.64 2105.85 1519.2 Q2104.05 1522.75 2104.05 1529.87 Q2104.05 1536.98 2105.85 1540.55 Q2107.68 1544.09 2111.29 1544.09 Q2114.93 1544.09 2116.73 1540.55 Q2118.56 1536.98 2118.56 1529.87 Q2118.56 1522.75 2116.73 1519.2 Q2114.93 1515.64 2111.29 1515.64 M2111.29 1511.93 Q2117.1 1511.93 2120.16 1516.54 Q2123.24 1521.12 2123.24 1529.87 Q2123.24 1538.6 2120.16 1543.21 Q2117.1 1547.79 2111.29 1547.79 Q2105.48 1547.79 2102.41 1543.21 Q2099.35 1538.6 2099.35 1529.87 Q2099.35 1521.12 2102.41 1516.54 Q2105.48 1511.93 2111.29 1511.93 Z\" fill=\"#000000\" fill-rule=\"evenodd\" fill-opacity=\"1\" /><polyline clip-path=\"url(#clip602)\" style=\"stroke:#000000; stroke-linecap:butt; stroke-linejoin:round; stroke-width:2; stroke-opacity:0.1; fill:none\" points=\"\n",
       "  306.435,1445.72 2352.76,1445.72 \n",
       "  \"/>\n",
       "<polyline clip-path=\"url(#clip602)\" style=\"stroke:#000000; stroke-linecap:butt; stroke-linejoin:round; stroke-width:2; stroke-opacity:0.1; fill:none\" points=\"\n",
       "  306.435,1101.65 2352.76,1101.65 \n",
       "  \"/>\n",
       "<polyline clip-path=\"url(#clip602)\" style=\"stroke:#000000; stroke-linecap:butt; stroke-linejoin:round; stroke-width:2; stroke-opacity:0.1; fill:none\" points=\"\n",
       "  306.435,757.591 2352.76,757.591 \n",
       "  \"/>\n",
       "<polyline clip-path=\"url(#clip602)\" style=\"stroke:#000000; stroke-linecap:butt; stroke-linejoin:round; stroke-width:2; stroke-opacity:0.1; fill:none\" points=\"\n",
       "  306.435,413.528 2352.76,413.528 \n",
       "  \"/>\n",
       "<polyline clip-path=\"url(#clip602)\" style=\"stroke:#000000; stroke-linecap:butt; stroke-linejoin:round; stroke-width:2; stroke-opacity:0.1; fill:none\" points=\"\n",
       "  306.435,69.4657 2352.76,69.4657 \n",
       "  \"/>\n",
       "<polyline clip-path=\"url(#clip600)\" style=\"stroke:#000000; stroke-linecap:butt; stroke-linejoin:round; stroke-width:4; stroke-opacity:1; fill:none\" points=\"\n",
       "  306.435,1486.45 306.435,47.2441 \n",
       "  \"/>\n",
       "<polyline clip-path=\"url(#clip600)\" style=\"stroke:#000000; stroke-linecap:butt; stroke-linejoin:round; stroke-width:4; stroke-opacity:1; fill:none\" points=\"\n",
       "  306.435,1445.72 330.991,1445.72 \n",
       "  \"/>\n",
       "<polyline clip-path=\"url(#clip600)\" style=\"stroke:#000000; stroke-linecap:butt; stroke-linejoin:round; stroke-width:4; stroke-opacity:1; fill:none\" points=\"\n",
       "  306.435,1101.65 330.991,1101.65 \n",
       "  \"/>\n",
       "<polyline clip-path=\"url(#clip600)\" style=\"stroke:#000000; stroke-linecap:butt; stroke-linejoin:round; stroke-width:4; stroke-opacity:1; fill:none\" points=\"\n",
       "  306.435,757.591 330.991,757.591 \n",
       "  \"/>\n",
       "<polyline clip-path=\"url(#clip600)\" style=\"stroke:#000000; stroke-linecap:butt; stroke-linejoin:round; stroke-width:4; stroke-opacity:1; fill:none\" points=\"\n",
       "  306.435,413.528 330.991,413.528 \n",
       "  \"/>\n",
       "<polyline clip-path=\"url(#clip600)\" style=\"stroke:#000000; stroke-linecap:butt; stroke-linejoin:round; stroke-width:4; stroke-opacity:1; fill:none\" points=\"\n",
       "  306.435,69.4657 330.991,69.4657 \n",
       "  \"/>\n",
       "<path clip-path=\"url(#clip600)\" d=\"M258.491 1431.51 Q254.88 1431.51 253.051 1435.08 Q251.246 1438.62 251.246 1445.75 Q251.246 1452.86 253.051 1456.42 Q254.88 1459.96 258.491 1459.96 Q262.125 1459.96 263.931 1456.42 Q265.759 1452.86 265.759 1445.75 Q265.759 1438.62 263.931 1435.08 Q262.125 1431.51 258.491 1431.51 M258.491 1427.81 Q264.301 1427.81 267.357 1432.42 Q270.435 1437 270.435 1445.75 Q270.435 1454.48 267.357 1459.08 Q264.301 1463.67 258.491 1463.67 Q252.681 1463.67 249.602 1459.08 Q246.547 1454.48 246.547 1445.75 Q246.547 1437 249.602 1432.42 Q252.681 1427.81 258.491 1427.81 Z\" fill=\"#000000\" fill-rule=\"evenodd\" fill-opacity=\"1\" /><path clip-path=\"url(#clip600)\" d=\"M54.6105 1090.82 L72.9668 1090.82 L72.9668 1094.76 L58.8928 1094.76 L58.8928 1103.23 Q59.9113 1102.88 60.9299 1102.72 Q61.9484 1102.53 62.9669 1102.53 Q68.7539 1102.53 72.1335 1105.7 Q75.5131 1108.88 75.5131 1114.29 Q75.5131 1119.87 72.0409 1122.97 Q68.5687 1126.05 62.2493 1126.05 Q60.0734 1126.05 57.8049 1125.68 Q55.5595 1125.31 53.1521 1124.57 L53.1521 1119.87 Q55.2354 1121.01 57.4577 1121.56 Q59.6799 1122.12 62.1567 1122.12 Q66.1613 1122.12 68.4993 1120.01 Q70.8372 1117.9 70.8372 1114.29 Q70.8372 1110.68 68.4993 1108.58 Q66.1613 1106.47 62.1567 1106.47 Q60.2817 1106.47 58.4067 1106.89 Q56.5549 1107.3 54.6105 1108.18 L54.6105 1090.82 Z\" fill=\"#000000\" fill-rule=\"evenodd\" fill-opacity=\"1\" /><path clip-path=\"url(#clip600)\" d=\"M84.726 1119.5 L89.6103 1119.5 L89.6103 1125.38 L84.726 1125.38 L84.726 1119.5 Z\" fill=\"#000000\" fill-rule=\"evenodd\" fill-opacity=\"1\" /><path clip-path=\"url(#clip600)\" d=\"M109.795 1093.9 Q106.184 1093.9 104.356 1097.46 Q102.55 1101.01 102.55 1108.14 Q102.55 1115.24 104.356 1118.81 Q106.184 1122.35 109.795 1122.35 Q113.43 1122.35 115.235 1118.81 Q117.064 1115.24 117.064 1108.14 Q117.064 1101.01 115.235 1097.46 Q113.43 1093.9 109.795 1093.9 M109.795 1090.2 Q115.605 1090.2 118.661 1094.8 Q121.74 1099.39 121.74 1108.14 Q121.74 1116.86 118.661 1121.47 Q115.605 1126.05 109.795 1126.05 Q103.985 1126.05 100.906 1121.47 Q97.851 1116.86 97.851 1108.14 Q97.851 1099.39 100.906 1094.8 Q103.985 1090.2 109.795 1090.2 Z\" fill=\"#000000\" fill-rule=\"evenodd\" fill-opacity=\"1\" /><path clip-path=\"url(#clip600)\" d=\"M139.957 1093.9 Q136.346 1093.9 134.517 1097.46 Q132.712 1101.01 132.712 1108.14 Q132.712 1115.24 134.517 1118.81 Q136.346 1122.35 139.957 1122.35 Q143.591 1122.35 145.397 1118.81 Q147.226 1115.24 147.226 1108.14 Q147.226 1101.01 145.397 1097.46 Q143.591 1093.9 139.957 1093.9 M139.957 1090.2 Q145.767 1090.2 148.823 1094.8 Q151.902 1099.39 151.902 1108.14 Q151.902 1116.86 148.823 1121.47 Q145.767 1126.05 139.957 1126.05 Q134.147 1126.05 131.068 1121.47 Q128.013 1116.86 128.013 1108.14 Q128.013 1099.39 131.068 1094.8 Q134.147 1090.2 139.957 1090.2 Z\" fill=\"#000000\" fill-rule=\"evenodd\" fill-opacity=\"1\" /><path clip-path=\"url(#clip600)\" d=\"M188.29 1099.92 L177.712 1110.54 L188.29 1121.12 L185.536 1123.92 L174.911 1113.3 L164.286 1123.92 L161.554 1121.12 L172.11 1110.54 L161.554 1099.92 L164.286 1097.12 L174.911 1107.74 L185.536 1097.12 L188.29 1099.92 Z\" fill=\"#000000\" fill-rule=\"evenodd\" fill-opacity=\"1\" /><path clip-path=\"url(#clip600)\" d=\"M200.651 1121.45 L208.29 1121.45 L208.29 1095.08 L199.98 1096.75 L199.98 1092.49 L208.244 1090.82 L212.92 1090.82 L212.92 1121.45 L220.559 1121.45 L220.559 1125.38 L200.651 1125.38 L200.651 1121.45 Z\" fill=\"#000000\" fill-rule=\"evenodd\" fill-opacity=\"1\" /><path clip-path=\"url(#clip600)\" d=\"M240.003 1093.9 Q236.392 1093.9 234.563 1097.46 Q232.758 1101.01 232.758 1108.14 Q232.758 1115.24 234.563 1118.81 Q236.392 1122.35 240.003 1122.35 Q243.637 1122.35 245.443 1118.81 Q247.271 1115.24 247.271 1108.14 Q247.271 1101.01 245.443 1097.46 Q243.637 1093.9 240.003 1093.9 M240.003 1090.2 Q245.813 1090.2 248.869 1094.8 Q251.947 1099.39 251.947 1108.14 Q251.947 1116.86 248.869 1121.47 Q245.813 1126.05 240.003 1126.05 Q234.193 1126.05 231.114 1121.47 Q228.059 1116.86 228.059 1108.14 Q228.059 1099.39 231.114 1094.8 Q234.193 1090.2 240.003 1090.2 Z\" fill=\"#000000\" fill-rule=\"evenodd\" fill-opacity=\"1\" /><path clip-path=\"url(#clip600)\" d=\"M264.643 1082.83 Q267.37 1083.41 268.893 1085.26 Q270.435 1087.1 270.435 1089.81 Q270.435 1093.96 267.577 1096.24 Q264.718 1098.52 259.452 1098.52 Q257.684 1098.52 255.803 1098.16 Q253.941 1097.82 251.947 1097.12 L251.947 1093.46 Q253.527 1094.38 255.408 1094.85 Q257.289 1095.32 259.339 1095.32 Q262.912 1095.32 264.774 1093.91 Q266.655 1092.5 266.655 1089.81 Q266.655 1087.33 264.906 1085.93 Q263.176 1084.52 260.072 1084.52 L256.8 1084.52 L256.8 1081.4 L260.223 1081.4 Q263.025 1081.4 264.511 1080.29 Q265.997 1079.16 265.997 1077.06 Q265.997 1074.89 264.455 1073.75 Q262.931 1072.58 260.072 1072.58 Q258.511 1072.58 256.725 1072.92 Q254.938 1073.26 252.794 1073.97 L252.794 1070.59 Q254.957 1069.98 256.837 1069.68 Q258.737 1069.38 260.411 1069.38 Q264.737 1069.38 267.257 1071.36 Q269.777 1073.31 269.777 1076.66 Q269.777 1078.99 268.442 1080.61 Q267.106 1082.21 264.643 1082.83 Z\" fill=\"#000000\" fill-rule=\"evenodd\" fill-opacity=\"1\" /><path clip-path=\"url(#clip600)\" d=\"M53.3995 777.383 L61.0384 777.383 L61.0384 751.018 L52.7282 752.684 L52.7282 748.425 L60.9921 746.758 L65.668 746.758 L65.668 777.383 L73.3068 777.383 L73.3068 781.318 L53.3995 781.318 L53.3995 777.383 Z\" fill=\"#000000\" fill-rule=\"evenodd\" fill-opacity=\"1\" /><path clip-path=\"url(#clip600)\" d=\"M82.7512 775.439 L87.6354 775.439 L87.6354 781.318 L82.7512 781.318 L82.7512 775.439 Z\" fill=\"#000000\" fill-rule=\"evenodd\" fill-opacity=\"1\" /><path clip-path=\"url(#clip600)\" d=\"M107.821 749.837 Q104.209 749.837 102.381 753.402 Q100.575 756.943 100.575 764.073 Q100.575 771.179 102.381 774.744 Q104.209 778.286 107.821 778.286 Q111.455 778.286 113.26 774.744 Q115.089 771.179 115.089 764.073 Q115.089 756.943 113.26 753.402 Q111.455 749.837 107.821 749.837 M107.821 746.133 Q113.631 746.133 116.686 750.74 Q119.765 755.323 119.765 764.073 Q119.765 772.8 116.686 777.406 Q113.631 781.99 107.821 781.99 Q102.01 781.99 98.9317 777.406 Q95.8761 772.8 95.8761 764.073 Q95.8761 755.323 98.9317 750.74 Q102.01 746.133 107.821 746.133 Z\" fill=\"#000000\" fill-rule=\"evenodd\" fill-opacity=\"1\" /><path clip-path=\"url(#clip600)\" d=\"M137.982 749.837 Q134.371 749.837 132.543 753.402 Q130.737 756.943 130.737 764.073 Q130.737 771.179 132.543 774.744 Q134.371 778.286 137.982 778.286 Q141.617 778.286 143.422 774.744 Q145.251 771.179 145.251 764.073 Q145.251 756.943 143.422 753.402 Q141.617 749.837 137.982 749.837 M137.982 746.133 Q143.793 746.133 146.848 750.74 Q149.927 755.323 149.927 764.073 Q149.927 772.8 146.848 777.406 Q143.793 781.99 137.982 781.99 Q132.172 781.99 129.094 777.406 Q126.038 772.8 126.038 764.073 Q126.038 755.323 129.094 750.74 Q132.172 746.133 137.982 746.133 Z\" fill=\"#000000\" fill-rule=\"evenodd\" fill-opacity=\"1\" /><path clip-path=\"url(#clip600)\" d=\"M186.315 755.855 L175.737 766.48 L186.315 777.059 L183.561 779.86 L172.936 769.235 L162.311 779.86 L159.58 777.059 L170.135 766.48 L159.58 755.855 L162.311 753.055 L172.936 763.68 L183.561 753.055 L186.315 755.855 Z\" fill=\"#000000\" fill-rule=\"evenodd\" fill-opacity=\"1\" /><path clip-path=\"url(#clip600)\" d=\"M198.677 777.383 L206.315 777.383 L206.315 751.018 L198.005 752.684 L198.005 748.425 L206.269 746.758 L210.945 746.758 L210.945 777.383 L218.584 777.383 L218.584 781.318 L198.677 781.318 L198.677 777.383 Z\" fill=\"#000000\" fill-rule=\"evenodd\" fill-opacity=\"1\" /><path clip-path=\"url(#clip600)\" d=\"M238.028 749.837 Q234.417 749.837 232.588 753.402 Q230.783 756.943 230.783 764.073 Q230.783 771.179 232.588 774.744 Q234.417 778.286 238.028 778.286 Q241.662 778.286 243.468 774.744 Q245.297 771.179 245.297 764.073 Q245.297 756.943 243.468 753.402 Q241.662 749.837 238.028 749.837 M238.028 746.133 Q243.838 746.133 246.894 750.74 Q249.973 755.323 249.973 764.073 Q249.973 772.8 246.894 777.406 Q243.838 781.99 238.028 781.99 Q232.218 781.99 229.139 777.406 Q226.084 772.8 226.084 764.073 Q226.084 755.323 229.139 750.74 Q232.218 746.133 238.028 746.133 Z\" fill=\"#000000\" fill-rule=\"evenodd\" fill-opacity=\"1\" /><path clip-path=\"url(#clip600)\" d=\"M262.649 729.138 L253.057 744.128 L262.649 744.128 L262.649 729.138 M261.652 725.828 L266.429 725.828 L266.429 744.128 L270.435 744.128 L270.435 747.288 L266.429 747.288 L266.429 753.908 L262.649 753.908 L262.649 747.288 L249.973 747.288 L249.973 743.62 L261.652 725.828 Z\" fill=\"#000000\" fill-rule=\"evenodd\" fill-opacity=\"1\" /><path clip-path=\"url(#clip600)\" d=\"M53.3995 433.321 L61.0384 433.321 L61.0384 406.955 L52.7282 408.622 L52.7282 404.362 L60.9921 402.696 L65.668 402.696 L65.668 433.321 L73.3068 433.321 L73.3068 437.256 L53.3995 437.256 L53.3995 433.321 Z\" fill=\"#000000\" fill-rule=\"evenodd\" fill-opacity=\"1\" /><path clip-path=\"url(#clip600)\" d=\"M82.7512 431.376 L87.6354 431.376 L87.6354 437.256 L82.7512 437.256 L82.7512 431.376 Z\" fill=\"#000000\" fill-rule=\"evenodd\" fill-opacity=\"1\" /><path clip-path=\"url(#clip600)\" d=\"M97.8669 402.696 L116.223 402.696 L116.223 406.631 L102.149 406.631 L102.149 415.103 Q103.168 414.756 104.186 414.594 Q105.205 414.409 106.223 414.409 Q112.01 414.409 115.39 417.58 Q118.77 420.751 118.77 426.168 Q118.77 431.747 115.297 434.848 Q111.825 437.927 105.506 437.927 Q103.33 437.927 101.061 437.557 Q98.8159 437.186 96.4085 436.446 L96.4085 431.747 Q98.4919 432.881 100.714 433.436 Q102.936 433.992 105.413 433.992 Q109.418 433.992 111.756 431.885 Q114.094 429.779 114.094 426.168 Q114.094 422.557 111.756 420.45 Q109.418 418.344 105.413 418.344 Q103.538 418.344 101.663 418.761 Q99.8113 419.177 97.8669 420.057 L97.8669 402.696 Z\" fill=\"#000000\" fill-rule=\"evenodd\" fill-opacity=\"1\" /><path clip-path=\"url(#clip600)\" d=\"M137.982 405.774 Q134.371 405.774 132.543 409.339 Q130.737 412.881 130.737 420.011 Q130.737 427.117 132.543 430.682 Q134.371 434.223 137.982 434.223 Q141.617 434.223 143.422 430.682 Q145.251 427.117 145.251 420.011 Q145.251 412.881 143.422 409.339 Q141.617 405.774 137.982 405.774 M137.982 402.071 Q143.793 402.071 146.848 406.677 Q149.927 411.261 149.927 420.011 Q149.927 428.737 146.848 433.344 Q143.793 437.927 137.982 437.927 Q132.172 437.927 129.094 433.344 Q126.038 428.737 126.038 420.011 Q126.038 411.261 129.094 406.677 Q132.172 402.071 137.982 402.071 Z\" fill=\"#000000\" fill-rule=\"evenodd\" fill-opacity=\"1\" /><path clip-path=\"url(#clip600)\" d=\"M186.315 411.793 L175.737 422.418 L186.315 432.997 L183.561 435.797 L172.936 425.173 L162.311 435.797 L159.58 432.997 L170.135 422.418 L159.58 411.793 L162.311 408.992 L172.936 419.617 L183.561 408.992 L186.315 411.793 Z\" fill=\"#000000\" fill-rule=\"evenodd\" fill-opacity=\"1\" /><path clip-path=\"url(#clip600)\" d=\"M198.677 433.321 L206.315 433.321 L206.315 406.955 L198.005 408.622 L198.005 404.362 L206.269 402.696 L210.945 402.696 L210.945 433.321 L218.584 433.321 L218.584 437.256 L198.677 437.256 L198.677 433.321 Z\" fill=\"#000000\" fill-rule=\"evenodd\" fill-opacity=\"1\" /><path clip-path=\"url(#clip600)\" d=\"M238.028 405.774 Q234.417 405.774 232.588 409.339 Q230.783 412.881 230.783 420.011 Q230.783 427.117 232.588 430.682 Q234.417 434.223 238.028 434.223 Q241.662 434.223 243.468 430.682 Q245.297 427.117 245.297 420.011 Q245.297 412.881 243.468 409.339 Q241.662 405.774 238.028 405.774 M238.028 402.071 Q243.838 402.071 246.894 406.677 Q249.973 411.261 249.973 420.011 Q249.973 428.737 246.894 433.344 Q243.838 437.927 238.028 437.927 Q232.218 437.927 229.139 433.344 Q226.084 428.737 226.084 420.011 Q226.084 411.261 229.139 406.677 Q232.218 402.071 238.028 402.071 Z\" fill=\"#000000\" fill-rule=\"evenodd\" fill-opacity=\"1\" /><path clip-path=\"url(#clip600)\" d=\"M262.649 385.076 L253.057 400.065 L262.649 400.065 L262.649 385.076 M261.652 381.765 L266.429 381.765 L266.429 400.065 L270.435 400.065 L270.435 403.225 L266.429 403.225 L266.429 409.845 L262.649 409.845 L262.649 403.225 L249.973 403.225 L249.973 399.558 L261.652 381.765 Z\" fill=\"#000000\" fill-rule=\"evenodd\" fill-opacity=\"1\" /><path clip-path=\"url(#clip600)\" d=\"M56.6171 89.2582 L72.9365 89.2582 L72.9365 93.1933 L50.9921 93.1933 L50.9921 89.2582 Q53.6541 86.5035 58.2375 81.8739 Q62.8439 77.2212 64.0245 75.8786 Q66.2698 73.3555 67.1494 71.6194 Q68.0522 69.8601 68.0522 68.1703 Q68.0522 65.4157 66.1078 63.6796 Q64.1865 61.9435 61.0847 61.9435 Q58.8856 61.9435 56.4319 62.7074 Q54.0014 63.4713 51.2236 65.0222 L51.2236 60.3 Q54.0477 59.1657 56.5014 58.587 Q58.955 58.0083 60.9921 58.0083 Q66.3624 58.0083 69.5568 60.6935 Q72.7513 63.3787 72.7513 67.8694 Q72.7513 69.999 71.9411 71.9203 Q71.1541 73.8184 69.0476 76.411 Q68.4689 77.0823 65.367 80.2999 Q62.2652 83.4943 56.6171 89.2582 Z\" fill=\"#000000\" fill-rule=\"evenodd\" fill-opacity=\"1\" /><path clip-path=\"url(#clip600)\" d=\"M82.7512 87.3137 L87.6354 87.3137 L87.6354 93.1933 L82.7512 93.1933 L82.7512 87.3137 Z\" fill=\"#000000\" fill-rule=\"evenodd\" fill-opacity=\"1\" /><path clip-path=\"url(#clip600)\" d=\"M107.821 61.712 Q104.209 61.712 102.381 65.2768 Q100.575 68.8184 100.575 75.948 Q100.575 83.0545 102.381 86.6193 Q104.209 90.1609 107.821 90.1609 Q111.455 90.1609 113.26 86.6193 Q115.089 83.0545 115.089 75.948 Q115.089 68.8184 113.26 65.2768 Q111.455 61.712 107.821 61.712 M107.821 58.0083 Q113.631 58.0083 116.686 62.6148 Q119.765 67.1981 119.765 75.948 Q119.765 84.6748 116.686 89.2813 Q113.631 93.8646 107.821 93.8646 Q102.01 93.8646 98.9317 89.2813 Q95.8761 84.6748 95.8761 75.948 Q95.8761 67.1981 98.9317 62.6148 Q102.01 58.0083 107.821 58.0083 Z\" fill=\"#000000\" fill-rule=\"evenodd\" fill-opacity=\"1\" /><path clip-path=\"url(#clip600)\" d=\"M137.982 61.712 Q134.371 61.712 132.543 65.2768 Q130.737 68.8184 130.737 75.948 Q130.737 83.0545 132.543 86.6193 Q134.371 90.1609 137.982 90.1609 Q141.617 90.1609 143.422 86.6193 Q145.251 83.0545 145.251 75.948 Q145.251 68.8184 143.422 65.2768 Q141.617 61.712 137.982 61.712 M137.982 58.0083 Q143.793 58.0083 146.848 62.6148 Q149.927 67.1981 149.927 75.948 Q149.927 84.6748 146.848 89.2813 Q143.793 93.8646 137.982 93.8646 Q132.172 93.8646 129.094 89.2813 Q126.038 84.6748 126.038 75.948 Q126.038 67.1981 129.094 62.6148 Q132.172 58.0083 137.982 58.0083 Z\" fill=\"#000000\" fill-rule=\"evenodd\" fill-opacity=\"1\" /><path clip-path=\"url(#clip600)\" d=\"M186.315 67.7305 L175.737 78.3554 L186.315 88.9341 L183.561 91.735 L172.936 81.11 L162.311 91.735 L159.58 88.9341 L170.135 78.3554 L159.58 67.7305 L162.311 64.9296 L172.936 75.5545 L183.561 64.9296 L186.315 67.7305 Z\" fill=\"#000000\" fill-rule=\"evenodd\" fill-opacity=\"1\" /><path clip-path=\"url(#clip600)\" d=\"M198.677 89.2582 L206.315 89.2582 L206.315 62.8926 L198.005 64.5592 L198.005 60.3 L206.269 58.6333 L210.945 58.6333 L210.945 89.2582 L218.584 89.2582 L218.584 93.1933 L198.677 93.1933 L198.677 89.2582 Z\" fill=\"#000000\" fill-rule=\"evenodd\" fill-opacity=\"1\" /><path clip-path=\"url(#clip600)\" d=\"M238.028 61.712 Q234.417 61.712 232.588 65.2768 Q230.783 68.8184 230.783 75.948 Q230.783 83.0545 232.588 86.6193 Q234.417 90.1609 238.028 90.1609 Q241.662 90.1609 243.468 86.6193 Q245.297 83.0545 245.297 75.948 Q245.297 68.8184 243.468 65.2768 Q241.662 61.712 238.028 61.712 M238.028 58.0083 Q243.838 58.0083 246.894 62.6148 Q249.973 67.1981 249.973 75.948 Q249.973 84.6748 246.894 89.2813 Q243.838 93.8646 238.028 93.8646 Q232.218 93.8646 229.139 89.2813 Q226.084 84.6748 226.084 75.948 Q226.084 67.1981 229.139 62.6148 Q232.218 58.0083 238.028 58.0083 Z\" fill=\"#000000\" fill-rule=\"evenodd\" fill-opacity=\"1\" /><path clip-path=\"url(#clip600)\" d=\"M262.649 41.0131 L253.057 56.0029 L262.649 56.0029 L262.649 41.0131 M261.652 37.7029 L266.429 37.7029 L266.429 56.0029 L270.435 56.0029 L270.435 59.1626 L266.429 59.1626 L266.429 65.7829 L262.649 65.7829 L262.649 59.1626 L249.973 59.1626 L249.973 55.4951 L261.652 37.7029 Z\" fill=\"#000000\" fill-rule=\"evenodd\" fill-opacity=\"1\" /><path clip-path=\"url(#clip602)\" d=\"\n",
       "M418.987 1011.03 L418.987 1445.72 L584.552 1445.72 L584.552 1011.03 L418.987 1011.03 L418.987 1011.03  Z\n",
       "  \" fill=\"#009af9\" fill-rule=\"evenodd\" fill-opacity=\"1\"/>\n",
       "<polyline clip-path=\"url(#clip602)\" style=\"stroke:#000000; stroke-linecap:butt; stroke-linejoin:round; stroke-width:4; stroke-opacity:1; fill:none\" points=\"\n",
       "  418.987,1011.03 418.987,1445.72 584.552,1445.72 584.552,1011.03 418.987,1011.03 \n",
       "  \"/>\n",
       "<path clip-path=\"url(#clip602)\" d=\"\n",
       "M584.552 1445.72 L584.552 1445.72 L750.117 1445.72 L750.117 1445.72 L584.552 1445.72 L584.552 1445.72  Z\n",
       "  \" fill=\"#009af9\" fill-rule=\"evenodd\" fill-opacity=\"1\"/>\n",
       "<polyline clip-path=\"url(#clip602)\" style=\"stroke:#000000; stroke-linecap:butt; stroke-linejoin:round; stroke-width:4; stroke-opacity:1; fill:none\" points=\"\n",
       "  584.552,1445.72 584.552,1445.72 750.117,1445.72 584.552,1445.72 \n",
       "  \"/>\n",
       "<path clip-path=\"url(#clip602)\" d=\"\n",
       "M750.117 1445.72 L750.117 1445.72 L915.682 1445.72 L915.682 1445.72 L750.117 1445.72 L750.117 1445.72  Z\n",
       "  \" fill=\"#009af9\" fill-rule=\"evenodd\" fill-opacity=\"1\"/>\n",
       "<polyline clip-path=\"url(#clip602)\" style=\"stroke:#000000; stroke-linecap:butt; stroke-linejoin:round; stroke-width:4; stroke-opacity:1; fill:none\" points=\"\n",
       "  750.117,1445.72 750.117,1445.72 915.682,1445.72 750.117,1445.72 \n",
       "  \"/>\n",
       "<path clip-path=\"url(#clip602)\" d=\"\n",
       "M915.682 1445.72 L915.682 1445.72 L1081.25 1445.72 L1081.25 1445.72 L915.682 1445.72 L915.682 1445.72  Z\n",
       "  \" fill=\"#009af9\" fill-rule=\"evenodd\" fill-opacity=\"1\"/>\n",
       "<polyline clip-path=\"url(#clip602)\" style=\"stroke:#000000; stroke-linecap:butt; stroke-linejoin:round; stroke-width:4; stroke-opacity:1; fill:none\" points=\"\n",
       "  915.682,1445.72 915.682,1445.72 1081.25,1445.72 915.682,1445.72 \n",
       "  \"/>\n",
       "<path clip-path=\"url(#clip602)\" d=\"\n",
       "M1081.25 1445.72 L1081.25 1445.72 L1246.81 1445.72 L1246.81 1445.72 L1081.25 1445.72 L1081.25 1445.72  Z\n",
       "  \" fill=\"#009af9\" fill-rule=\"evenodd\" fill-opacity=\"1\"/>\n",
       "<polyline clip-path=\"url(#clip602)\" style=\"stroke:#000000; stroke-linecap:butt; stroke-linejoin:round; stroke-width:4; stroke-opacity:1; fill:none\" points=\"\n",
       "  1081.25,1445.72 1081.25,1445.72 1246.81,1445.72 1081.25,1445.72 \n",
       "  \"/>\n",
       "<path clip-path=\"url(#clip602)\" d=\"\n",
       "M1246.81 1445.72 L1246.81 1445.72 L1412.38 1445.72 L1412.38 1445.72 L1246.81 1445.72 L1246.81 1445.72  Z\n",
       "  \" fill=\"#009af9\" fill-rule=\"evenodd\" fill-opacity=\"1\"/>\n",
       "<polyline clip-path=\"url(#clip602)\" style=\"stroke:#000000; stroke-linecap:butt; stroke-linejoin:round; stroke-width:4; stroke-opacity:1; fill:none\" points=\"\n",
       "  1246.81,1445.72 1246.81,1445.72 1412.38,1445.72 1246.81,1445.72 \n",
       "  \"/>\n",
       "<path clip-path=\"url(#clip602)\" d=\"\n",
       "M1412.38 1445.72 L1412.38 1445.72 L1577.94 1445.72 L1577.94 1445.72 L1412.38 1445.72 L1412.38 1445.72  Z\n",
       "  \" fill=\"#009af9\" fill-rule=\"evenodd\" fill-opacity=\"1\"/>\n",
       "<polyline clip-path=\"url(#clip602)\" style=\"stroke:#000000; stroke-linecap:butt; stroke-linejoin:round; stroke-width:4; stroke-opacity:1; fill:none\" points=\"\n",
       "  1412.38,1445.72 1412.38,1445.72 1577.94,1445.72 1412.38,1445.72 \n",
       "  \"/>\n",
       "<path clip-path=\"url(#clip602)\" d=\"\n",
       "M1577.94 1445.72 L1577.94 1445.72 L1743.51 1445.72 L1743.51 1445.72 L1577.94 1445.72 L1577.94 1445.72  Z\n",
       "  \" fill=\"#009af9\" fill-rule=\"evenodd\" fill-opacity=\"1\"/>\n",
       "<polyline clip-path=\"url(#clip602)\" style=\"stroke:#000000; stroke-linecap:butt; stroke-linejoin:round; stroke-width:4; stroke-opacity:1; fill:none\" points=\"\n",
       "  1577.94,1445.72 1577.94,1445.72 1743.51,1445.72 1577.94,1445.72 \n",
       "  \"/>\n",
       "<path clip-path=\"url(#clip602)\" d=\"\n",
       "M1743.51 1445.72 L1743.51 1445.72 L1909.07 1445.72 L1909.07 1445.72 L1743.51 1445.72 L1743.51 1445.72  Z\n",
       "  \" fill=\"#009af9\" fill-rule=\"evenodd\" fill-opacity=\"1\"/>\n",
       "<polyline clip-path=\"url(#clip602)\" style=\"stroke:#000000; stroke-linecap:butt; stroke-linejoin:round; stroke-width:4; stroke-opacity:1; fill:none\" points=\"\n",
       "  1743.51,1445.72 1743.51,1445.72 1909.07,1445.72 1743.51,1445.72 \n",
       "  \"/>\n",
       "<path clip-path=\"url(#clip602)\" d=\"\n",
       "M1909.07 1445.72 L1909.07 1445.72 L2074.64 1445.72 L2074.64 1445.72 L1909.07 1445.72 L1909.07 1445.72  Z\n",
       "  \" fill=\"#009af9\" fill-rule=\"evenodd\" fill-opacity=\"1\"/>\n",
       "<polyline clip-path=\"url(#clip602)\" style=\"stroke:#000000; stroke-linecap:butt; stroke-linejoin:round; stroke-width:4; stroke-opacity:1; fill:none\" points=\"\n",
       "  1909.07,1445.72 1909.07,1445.72 2074.64,1445.72 1909.07,1445.72 \n",
       "  \"/>\n",
       "<path clip-path=\"url(#clip602)\" d=\"\n",
       "M2074.64 87.9763 L2074.64 1445.72 L2240.2 1445.72 L2240.2 87.9763 L2074.64 87.9763 L2074.64 87.9763  Z\n",
       "  \" fill=\"#009af9\" fill-rule=\"evenodd\" fill-opacity=\"1\"/>\n",
       "<polyline clip-path=\"url(#clip602)\" style=\"stroke:#000000; stroke-linecap:butt; stroke-linejoin:round; stroke-width:4; stroke-opacity:1; fill:none\" points=\"\n",
       "  2074.64,87.9763 2074.64,1445.72 2240.2,1445.72 2240.2,87.9763 2074.64,87.9763 \n",
       "  \"/>\n",
       "<path clip-path=\"url(#clip600)\" d=\"\n",
       "M2004.75 198.898 L2284.55 198.898 L2284.55 95.2176 L2004.75 95.2176  Z\n",
       "  \" fill=\"#ffffff\" fill-rule=\"evenodd\" fill-opacity=\"1\"/>\n",
       "<polyline clip-path=\"url(#clip600)\" style=\"stroke:#000000; stroke-linecap:butt; stroke-linejoin:round; stroke-width:4; stroke-opacity:1; fill:none\" points=\"\n",
       "  2004.75,198.898 2284.55,198.898 2284.55,95.2176 2004.75,95.2176 2004.75,198.898 \n",
       "  \"/>\n",
       "<path clip-path=\"url(#clip600)\" d=\"\n",
       "M2027.48 167.794 L2163.9 167.794 L2163.9 126.322 L2027.48 126.322 L2027.48 167.794  Z\n",
       "  \" fill=\"#009af9\" fill-rule=\"evenodd\" fill-opacity=\"1\"/>\n",
       "<polyline clip-path=\"url(#clip600)\" style=\"stroke:#000000; stroke-linecap:butt; stroke-linejoin:round; stroke-width:4; stroke-opacity:1; fill:none\" points=\"\n",
       "  2027.48,167.794 2163.9,167.794 2163.9,126.322 2027.48,126.322 2027.48,167.794 \n",
       "  \"/>\n",
       "<path clip-path=\"url(#clip600)\" d=\"M2200.48 166.745 Q2198.68 171.375 2196.97 172.787 Q2195.25 174.199 2192.38 174.199 L2188.98 174.199 L2188.98 170.634 L2191.48 170.634 Q2193.24 170.634 2194.21 169.8 Q2195.18 168.967 2196.36 165.865 L2197.13 163.921 L2186.64 138.412 L2191.16 138.412 L2199.26 158.689 L2207.36 138.412 L2211.87 138.412 L2200.48 166.745 Z\" fill=\"#000000\" fill-rule=\"evenodd\" fill-opacity=\"1\" /><path clip-path=\"url(#clip600)\" d=\"M2219.16 160.402 L2226.8 160.402 L2226.8 134.037 L2218.49 135.703 L2218.49 131.444 L2226.76 129.778 L2231.43 129.778 L2231.43 160.402 L2239.07 160.402 L2239.07 164.338 L2219.16 164.338 L2219.16 160.402 Z\" fill=\"#000000\" fill-rule=\"evenodd\" fill-opacity=\"1\" /></svg>\n"
      ]
     },
     "execution_count": 72,
     "metadata": {},
     "output_type": "execute_result"
    }
   ],
   "source": [
    "histogram(ytrain)"
   ]
  },
  {
   "cell_type": "markdown",
   "metadata": {},
   "source": [
    "# Correlations"
   ]
  },
  {
   "cell_type": "code",
   "execution_count": 73,
   "metadata": {},
   "outputs": [
    {
     "data": {
      "text/html": [
       "<table class=\"data-frame\"><thead><tr><th></th><th>feature</th><th>age</th><th>workclass</th><th>fnlwgt</th><th>education</th><th>education_num</th><th>marital_status</th><th>occupation</th><th>relationship</th><th>race</th><th>sex</th><th>capital_gain</th><th>capital_loss</th><th>hours_per_week</th><th>native_country</th><th>target</th></tr><tr><th></th><th>String</th><th>Float64</th><th>Float64</th><th>Float64</th><th>Float64</th><th>Float64</th><th>Float64</th><th>Float64</th><th>Float64</th><th>Float64</th><th>Float64</th><th>Float64</th><th>Float64</th><th>Float64</th><th>Float64</th><th>Float64</th></tr></thead><tbody><p>15 rows × 16 columns</p><tr><th>1</th><td>age</td><td>1.0</td><td>0.0943266</td><td>-0.0759189</td><td>0.0762887</td><td>0.0405695</td><td>-0.40817</td><td>-0.0632728</td><td>-0.239356</td><td>-0.0375338</td><td>-0.087554</td><td>0.0783422</td><td>0.0559231</td><td>0.0719078</td><td>0.00960231</td><td>-0.236831</td></tr><tr><th>2</th><td>workclass</td><td>0.0943266</td><td>1.0</td><td>-0.0152957</td><td>0.0258947</td><td>0.115564</td><td>-0.0144281</td><td>-0.086575</td><td>0.00518066</td><td>0.0454228</td><td>0.0450385</td><td>-0.0254234</td><td>0.00502221</td><td>-0.0608195</td><td>-0.0255893</td><td>-0.0207796</td></tr><tr><th>3</th><td>fnlwgt</td><td>-0.0759189</td><td>-0.0152957</td><td>1.0</td><td>0.0200516</td><td>-0.0461911</td><td>0.0423401</td><td>0.00218327</td><td>0.0215828</td><td>-0.0109469</td><td>-0.0231212</td><td>-0.000548703</td><td>-0.0141503</td><td>-0.0227331</td><td>0.0177199</td><td>0.0120564</td></tr><tr><th>4</th><td>education</td><td>0.0762887</td><td>0.0258947</td><td>0.0200516</td><td>1.0</td><td>-0.0833408</td><td>-0.0180324</td><td>-0.015696</td><td>0.00177158</td><td>0.0165629</td><td>-0.0219911</td><td>-0.00491028</td><td>0.0103497</td><td>0.000235544</td><td>0.0719063</td><td>-0.0269962</td></tr><tr><th>5</th><td>education_num</td><td>0.0405695</td><td>0.115564</td><td>-0.0461911</td><td>-0.0833408</td><td>1.0</td><td>-0.0852259</td><td>-0.221412</td><td>-0.0494797</td><td>-0.0356246</td><td>-0.0143279</td><td>0.121568</td><td>0.0857288</td><td>0.144499</td><td>-0.010839</td><td>-0.333953</td></tr><tr><th>6</th><td>marital_status</td><td>-0.40817</td><td>-0.0144281</td><td>0.0423401</td><td>-0.0180324</td><td>-0.0852259</td><td>1.0</td><td>0.0900831</td><td>0.614741</td><td>0.0886037</td><td>0.362252</td><td>-0.0821224</td><td>-0.0792578</td><td>-0.202768</td><td>0.0125633</td><td>0.42372</td></tr><tr><th>7</th><td>occupation</td><td>-0.0632728</td><td>-0.086575</td><td>0.00218327</td><td>-0.015696</td><td>-0.221412</td><td>0.0900831</td><td>1.0</td><td>0.0614844</td><td>0.0400714</td><td>0.0778531</td><td>-0.0459518</td><td>-0.0313803</td><td>-0.0637164</td><td>0.0116685</td><td>0.116218</td></tr><tr><th>8</th><td>relationship</td><td>-0.239356</td><td>0.00518066</td><td>0.0215828</td><td>0.00177158</td><td>-0.0494797</td><td>0.614741</td><td>0.0614844</td><td>1.0</td><td>0.0679442</td><td>0.469437</td><td>-0.0558199</td><td>-0.0455362</td><td>-0.191746</td><td>0.0338063</td><td>0.288128</td></tr><tr><th>9</th><td>race</td><td>-0.0375338</td><td>0.0454228</td><td>-0.0109469</td><td>0.0165629</td><td>-0.0356246</td><td>0.0886037</td><td>0.0400714</td><td>0.0679442</td><td>1.0</td><td>0.0716097</td><td>-0.00912261</td><td>-0.0163077</td><td>-0.0308807</td><td>0.198545</td><td>0.0651211</td></tr><tr><th>10</th><td>sex</td><td>-0.087554</td><td>0.0450385</td><td>-0.0231212</td><td>-0.0219911</td><td>-0.0143279</td><td>0.362252</td><td>0.0778531</td><td>0.469437</td><td>0.0716097</td><td>1.0</td><td>-0.0484736</td><td>-0.0465485</td><td>-0.231187</td><td>0.0122891</td><td>0.22103</td></tr><tr><th>11</th><td>capital_gain</td><td>0.0783422</td><td>-0.0254234</td><td>-0.000548703</td><td>-0.00491028</td><td>0.121568</td><td>-0.0821224</td><td>-0.0459518</td><td>-0.0558199</td><td>-0.00912261</td><td>-0.0484736</td><td>1.0</td><td>-0.0320423</td><td>0.0749834</td><td>-0.00393056</td><td>-0.22334</td></tr><tr><th>12</th><td>capital_loss</td><td>0.0559231</td><td>0.00502221</td><td>-0.0141503</td><td>0.0103497</td><td>0.0857288</td><td>-0.0792578</td><td>-0.0313803</td><td>-0.0455362</td><td>-0.0163077</td><td>-0.0465485</td><td>-0.0320423</td><td>1.0</td><td>0.0482608</td><td>-0.00486749</td><td>-0.150489</td></tr><tr><th>13</th><td>hours_per_week</td><td>0.0719078</td><td>-0.0608195</td><td>-0.0227331</td><td>0.000235544</td><td>0.144499</td><td>-0.202768</td><td>-0.0637164</td><td>-0.191746</td><td>-0.0308807</td><td>-0.231187</td><td>0.0749834</td><td>0.0482608</td><td>1.0</td><td>-0.00683124</td><td>-0.229077</td></tr><tr><th>14</th><td>native_country</td><td>0.00960231</td><td>-0.0255893</td><td>0.0177199</td><td>0.0719063</td><td>-0.010839</td><td>0.0125633</td><td>0.0116685</td><td>0.0338063</td><td>0.198545</td><td>0.0122891</td><td>-0.00393056</td><td>-0.00486749</td><td>-0.00683124</td><td>1.0</td><td>0.00782941</td></tr><tr><th>15</th><td>target</td><td>-0.236831</td><td>-0.0207796</td><td>0.0120564</td><td>-0.0269962</td><td>-0.333953</td><td>0.42372</td><td>0.116218</td><td>0.288128</td><td>0.0651211</td><td>0.22103</td><td>-0.22334</td><td>-0.150489</td><td>-0.229077</td><td>0.00782941</td><td>1.0</td></tr></tbody></table>"
      ],
      "text/latex": [
       "\\begin{tabular}{r|cccccccccccccccc}\n",
       "\t& feature & age & workclass & fnlwgt & education & education\\_num & marital\\_status & occupation & relationship & race & sex & capital\\_gain & capital\\_loss & hours\\_per\\_week & native\\_country & target\\\\\n",
       "\t\\hline\n",
       "\t& String & Float64 & Float64 & Float64 & Float64 & Float64 & Float64 & Float64 & Float64 & Float64 & Float64 & Float64 & Float64 & Float64 & Float64 & Float64\\\\\n",
       "\t\\hline\n",
       "\t1 & age & 1.0 & 0.0943266 & -0.0759189 & 0.0762887 & 0.0405695 & -0.40817 & -0.0632728 & -0.239356 & -0.0375338 & -0.087554 & 0.0783422 & 0.0559231 & 0.0719078 & 0.00960231 & -0.236831 \\\\\n",
       "\t2 & workclass & 0.0943266 & 1.0 & -0.0152957 & 0.0258947 & 0.115564 & -0.0144281 & -0.086575 & 0.00518066 & 0.0454228 & 0.0450385 & -0.0254234 & 0.00502221 & -0.0608195 & -0.0255893 & -0.0207796 \\\\\n",
       "\t3 & fnlwgt & -0.0759189 & -0.0152957 & 1.0 & 0.0200516 & -0.0461911 & 0.0423401 & 0.00218327 & 0.0215828 & -0.0109469 & -0.0231212 & -0.000548703 & -0.0141503 & -0.0227331 & 0.0177199 & 0.0120564 \\\\\n",
       "\t4 & education & 0.0762887 & 0.0258947 & 0.0200516 & 1.0 & -0.0833408 & -0.0180324 & -0.015696 & 0.00177158 & 0.0165629 & -0.0219911 & -0.00491028 & 0.0103497 & 0.000235544 & 0.0719063 & -0.0269962 \\\\\n",
       "\t5 & education\\_num & 0.0405695 & 0.115564 & -0.0461911 & -0.0833408 & 1.0 & -0.0852259 & -0.221412 & -0.0494797 & -0.0356246 & -0.0143279 & 0.121568 & 0.0857288 & 0.144499 & -0.010839 & -0.333953 \\\\\n",
       "\t6 & marital\\_status & -0.40817 & -0.0144281 & 0.0423401 & -0.0180324 & -0.0852259 & 1.0 & 0.0900831 & 0.614741 & 0.0886037 & 0.362252 & -0.0821224 & -0.0792578 & -0.202768 & 0.0125633 & 0.42372 \\\\\n",
       "\t7 & occupation & -0.0632728 & -0.086575 & 0.00218327 & -0.015696 & -0.221412 & 0.0900831 & 1.0 & 0.0614844 & 0.0400714 & 0.0778531 & -0.0459518 & -0.0313803 & -0.0637164 & 0.0116685 & 0.116218 \\\\\n",
       "\t8 & relationship & -0.239356 & 0.00518066 & 0.0215828 & 0.00177158 & -0.0494797 & 0.614741 & 0.0614844 & 1.0 & 0.0679442 & 0.469437 & -0.0558199 & -0.0455362 & -0.191746 & 0.0338063 & 0.288128 \\\\\n",
       "\t9 & race & -0.0375338 & 0.0454228 & -0.0109469 & 0.0165629 & -0.0356246 & 0.0886037 & 0.0400714 & 0.0679442 & 1.0 & 0.0716097 & -0.00912261 & -0.0163077 & -0.0308807 & 0.198545 & 0.0651211 \\\\\n",
       "\t10 & sex & -0.087554 & 0.0450385 & -0.0231212 & -0.0219911 & -0.0143279 & 0.362252 & 0.0778531 & 0.469437 & 0.0716097 & 1.0 & -0.0484736 & -0.0465485 & -0.231187 & 0.0122891 & 0.22103 \\\\\n",
       "\t11 & capital\\_gain & 0.0783422 & -0.0254234 & -0.000548703 & -0.00491028 & 0.121568 & -0.0821224 & -0.0459518 & -0.0558199 & -0.00912261 & -0.0484736 & 1.0 & -0.0320423 & 0.0749834 & -0.00393056 & -0.22334 \\\\\n",
       "\t12 & capital\\_loss & 0.0559231 & 0.00502221 & -0.0141503 & 0.0103497 & 0.0857288 & -0.0792578 & -0.0313803 & -0.0455362 & -0.0163077 & -0.0465485 & -0.0320423 & 1.0 & 0.0482608 & -0.00486749 & -0.150489 \\\\\n",
       "\t13 & hours\\_per\\_week & 0.0719078 & -0.0608195 & -0.0227331 & 0.000235544 & 0.144499 & -0.202768 & -0.0637164 & -0.191746 & -0.0308807 & -0.231187 & 0.0749834 & 0.0482608 & 1.0 & -0.00683124 & -0.229077 \\\\\n",
       "\t14 & native\\_country & 0.00960231 & -0.0255893 & 0.0177199 & 0.0719063 & -0.010839 & 0.0125633 & 0.0116685 & 0.0338063 & 0.198545 & 0.0122891 & -0.00393056 & -0.00486749 & -0.00683124 & 1.0 & 0.00782941 \\\\\n",
       "\t15 & target & -0.236831 & -0.0207796 & 0.0120564 & -0.0269962 & -0.333953 & 0.42372 & 0.116218 & 0.288128 & 0.0651211 & 0.22103 & -0.22334 & -0.150489 & -0.229077 & 0.00782941 & 1.0 \\\\\n",
       "\\end{tabular}\n"
      ],
      "text/plain": [
       "\u001b[1m15×16 DataFrame\u001b[0m\n",
       "\u001b[1m Row \u001b[0m│\u001b[1m feature        \u001b[0m\u001b[1m age         \u001b[0m\u001b[1m workclass   \u001b[0m\u001b[1m fnlwgt       \u001b[0m\u001b[1m education    \u001b[0m\u001b[1m education_num \u001b[0m\u001b[1m marital_status \u001b[0m\u001b[1m occupation  \u001b[0m\u001b[1m relationship \u001b[0m\u001b[1m race        \u001b[0m\u001b[1m sex        \u001b[0m\u001b[1m capital_gain \u001b[0m\u001b[1m capital_loss \u001b[0m\u001b[1m hours_per_week \u001b[0m\u001b[1m native_country \u001b[0m\u001b[1m target      \u001b[0m\n",
       "\u001b[1m     \u001b[0m│\u001b[90m String         \u001b[0m\u001b[90m Float64     \u001b[0m\u001b[90m Float64     \u001b[0m\u001b[90m Float64      \u001b[0m\u001b[90m Float64      \u001b[0m\u001b[90m Float64       \u001b[0m\u001b[90m Float64        \u001b[0m\u001b[90m Float64     \u001b[0m\u001b[90m Float64      \u001b[0m\u001b[90m Float64     \u001b[0m\u001b[90m Float64    \u001b[0m\u001b[90m Float64      \u001b[0m\u001b[90m Float64      \u001b[0m\u001b[90m Float64        \u001b[0m\u001b[90m Float64        \u001b[0m\u001b[90m Float64     \u001b[0m\n",
       "─────┼──────────────────────────────────────────────────────────────────────────────────────────────────────────────────────────────────────────────────────────────────────────────────────────────────────────────────────────────────\n",
       "   1 │ age              1.0          0.0943266   -0.0759189     0.0762887        0.0405695      -0.40817    -0.0632728    -0.239356    -0.0375338   -0.087554    0.0783422      0.0559231      0.0719078        0.00960231  -0.236831\n",
       "   2 │ workclass        0.0943266    1.0         -0.0152957     0.0258947        0.115564       -0.0144281  -0.086575      0.00518066   0.0454228    0.0450385  -0.0254234      0.00502221    -0.0608195       -0.0255893   -0.0207796\n",
       "   3 │ fnlwgt          -0.0759189   -0.0152957    1.0           0.0200516       -0.0461911       0.0423401   0.00218327    0.0215828   -0.0109469   -0.0231212  -0.000548703   -0.0141503     -0.0227331        0.0177199    0.0120564\n",
       "   4 │ education        0.0762887    0.0258947    0.0200516     1.0             -0.0833408      -0.0180324  -0.015696      0.00177158   0.0165629   -0.0219911  -0.00491028     0.0103497      0.000235544      0.0719063   -0.0269962\n",
       "   5 │ education_num    0.0405695    0.115564    -0.0461911    -0.0833408        1.0            -0.0852259  -0.221412     -0.0494797   -0.0356246   -0.0143279   0.121568       0.0857288      0.144499        -0.010839    -0.333953\n",
       "   6 │ marital_status  -0.40817     -0.0144281    0.0423401    -0.0180324       -0.0852259       1.0         0.0900831     0.614741     0.0886037    0.362252   -0.0821224     -0.0792578     -0.202768         0.0125633    0.42372\n",
       "   7 │ occupation      -0.0632728   -0.086575     0.00218327   -0.015696        -0.221412        0.0900831   1.0           0.0614844    0.0400714    0.0778531  -0.0459518     -0.0313803     -0.0637164        0.0116685    0.116218\n",
       "   8 │ relationship    -0.239356     0.00518066   0.0215828     0.00177158      -0.0494797       0.614741    0.0614844     1.0          0.0679442    0.469437   -0.0558199     -0.0455362     -0.191746         0.0338063    0.288128\n",
       "   9 │ race            -0.0375338    0.0454228   -0.0109469     0.0165629       -0.0356246       0.0886037   0.0400714     0.0679442    1.0          0.0716097  -0.00912261    -0.0163077     -0.0308807        0.198545     0.0651211\n",
       "  10 │ sex             -0.087554     0.0450385   -0.0231212    -0.0219911       -0.0143279       0.362252    0.0778531     0.469437     0.0716097    1.0        -0.0484736     -0.0465485     -0.231187         0.0122891    0.22103\n",
       "  11 │ capital_gain     0.0783422   -0.0254234   -0.000548703  -0.00491028       0.121568       -0.0821224  -0.0459518    -0.0558199   -0.00912261  -0.0484736   1.0           -0.0320423      0.0749834       -0.00393056  -0.22334\n",
       "  12 │ capital_loss     0.0559231    0.00502221  -0.0141503     0.0103497        0.0857288      -0.0792578  -0.0313803    -0.0455362   -0.0163077   -0.0465485  -0.0320423      1.0            0.0482608       -0.00486749  -0.150489\n",
       "  13 │ hours_per_week   0.0719078   -0.0608195   -0.0227331     0.000235544      0.144499       -0.202768   -0.0637164    -0.191746    -0.0308807   -0.231187    0.0749834      0.0482608      1.0             -0.00683124  -0.229077\n",
       "  14 │ native_country   0.00960231  -0.0255893    0.0177199     0.0719063       -0.010839        0.0125633   0.0116685     0.0338063    0.198545     0.0122891  -0.00393056    -0.00486749    -0.00683124       1.0          0.00782941\n",
       "  15 │ target          -0.236831    -0.0207796    0.0120564    -0.0269962       -0.333953        0.42372     0.116218      0.288128     0.0651211    0.22103    -0.22334       -0.150489      -0.229077         0.00782941   1.0"
      ]
     },
     "execution_count": 73,
     "metadata": {},
     "output_type": "execute_result"
    }
   ],
   "source": [
    "@pipe hcat(Xtrain, ytrain) |>\n",
    "Matrix |>\n",
    "cor(_, _) |>\n",
    "DataFrame(_, headers) |>\n",
    "insertcols!(_, 1, :feature => headers)"
   ]
  },
  {
   "cell_type": "code",
   "execution_count": 74,
   "metadata": {},
   "outputs": [
    {
     "data": {
      "text/plain": [
       "Ensemble of Decision Trees\n",
       "Trees:      10\n",
       "Avg Leaves: 2722.3\n",
       "Avg Depth:  46.2"
      ]
     },
     "execution_count": 74,
     "metadata": {},
     "output_type": "execute_result"
    }
   ],
   "source": [
    "model = build_forest(ytrain, Xtrain)"
   ]
  },
  {
   "cell_type": "code",
   "execution_count": 78,
   "metadata": {},
   "outputs": [
    {
     "name": "stdout",
     "output_type": "stream",
     "text": [
      "accuracy(rocvalidat) = 0.7896191646191646\n",
      "f1score(rocvalidat) = 0.8711679518525485\n",
      "precision(rocvalidat) = 0.820403825717322\n",
      "recall(rocvalidat) = 0.9286287089013633\n",
      "rocvalidat = ROCNums{Int64}\n",
      "  p = 4988\n",
      "  n = 1524\n",
      "  tp = 4632\n",
      "  tn = 510\n",
      "  fp = 1014\n",
      "  fn = 356\n",
      "\n"
     ]
    }
   ],
   "source": [
    "accuracy(x::ROCNums) = (true_positive(x) + true_negative(x)) / (true_positive(x) + true_negative(x) + false_positive(x) + false_negative(x))\n",
    "\n",
    "preds = apply_forest(model, Xvalidat)\n",
    "rocvalidat = roc(yvalidat, preds)\n",
    "@show accuracy(rocvalidat)\n",
    "@show f1score(rocvalidat)\n",
    "@show precision(rocvalidat)\n",
    "@show recall(rocvalidat)\n",
    "@show rocvalidat;"
   ]
  },
  {
   "cell_type": "code",
   "execution_count": 79,
   "metadata": {},
   "outputs": [
    {
     "name": "stdout",
     "output_type": "stream",
     "text": [
      "accuracy(roctest) = 0.8261777532092623\n",
      "f1score(roctest) = 0.8868181091025436\n",
      "precision(roctest) = 0.8820908584612936\n",
      "recall(roctest) = 0.8915963007639727\n",
      "roctest = ROCNums{Int64}\n",
      "  p = 12435\n",
      "  n = 3846\n",
      "  tp = 11087\n",
      "  tn = 2364\n",
      "  fp = 1482\n",
      "  fn = 1348\n",
      "\n"
     ]
    }
   ],
   "source": [
    "predstest = apply_forest(model, Xtest)\n",
    "roctest = roc(ytest, predstest)\n",
    "@show accuracy(roctest)\n",
    "@show f1score(roctest)\n",
    "@show precision(roctest)\n",
    "@show recall(roctest)\n",
    "@show roctest;"
   ]
  },
  {
   "cell_type": "code",
   "execution_count": null,
   "metadata": {},
   "outputs": [],
   "source": []
  }
 ],
 "metadata": {
  "kernelspec": {
   "display_name": "Julia 1.6.1",
   "language": "julia",
   "name": "julia-1.6"
  },
  "language_info": {
   "file_extension": ".jl",
   "mimetype": "application/julia",
   "name": "julia",
   "version": "1.6.1"
  }
 },
 "nbformat": 4,
 "nbformat_minor": 4
}
